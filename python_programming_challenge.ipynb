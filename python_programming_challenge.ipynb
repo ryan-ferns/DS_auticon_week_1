{
 "cells": [
  {
   "cell_type": "markdown",
   "metadata": {},
   "source": [
    "## Poker Hand\n",
    "\n",
    "In this challenge, we have to find out which kind of Poker combination is present in a deck of 5 cards.Every card is a string containing the card value (with the upper-case initial for face-cards) and the lower-case initial for suits, as in the examples below:\n",
    "\n",
    "> \"Ah\" ➞ Ace of hearts <br>\n",
    "> \"Ks\" ➞ King of spades<br>\n",
    "> \"3d\" ➞ Three of diamonds<br>\n",
    "> \"Qc\" ➞ Queen of clubs <br>\n",
    "\n",
    "There are 10 different combinations. Here's the list, in decreasing order of importance:"
   ]
  },
  {
   "cell_type": "markdown",
   "metadata": {},
   "source": [
    "| Name            | Description                                         |\n",
    "|-----------------|-----------------------------------------------------|\n",
    "| Royal Flush     | A, K, Q, J, 10, all with the same suit.             |\n",
    "| Straight Flush  | Five cards in sequence, all with the same suit.     |\n",
    "| Four of a Kind  | Four cards of the same rank.                        |\n",
    "| Full House      | Three of a Kind with a Pair.                        |\n",
    "| Flush           | Any five cards of the same suit, not in sequence    |\n",
    "| Straight        | Five cards in a sequence, but not of the same suit. |\n",
    "| Three of a Kind | Three cards of the same rank.                       |\n",
    "| Two Pair        | Two different Pairs.                                |\n",
    "| Pair            | Two cards of the same rank.                         |\n",
    "| High Card       | No other valid combination.                         |"
   ]
  },
  {
   "cell_type": "markdown",
   "metadata": {},
   "source": [
    "### 1. Given a list `hand` containing five strings being the cards, implement a function `poker_hand_ranking` that returns a string with the name of the **highest** combination obtained, accordingly to the table above.\n",
    "\n",
    "#### Examples\n",
    "\n",
    "> poker_hand_ranking([\"10h\", \"Jh\", \"Qh\", \"Ah\", \"Kh\"]) ➞ \"Royal Flush\"<br>\n",
    "> poker_hand_ranking([\"3h\", \"5h\", \"Qs\", \"9h\", \"Ad\"]) ➞ \"High Card\"<br>\n",
    "> poker_hand_ranking([\"10s\", \"10c\", \"8d\", \"10d\", \"10h\"]) ➞ \"Four of a Kind\"<br>"
   ]
  },
  {
   "cell_type": "code",
   "execution_count": 6,
   "metadata": {},
   "outputs": [],
   "source": [
    "from collections import Counter\n",
    "\n",
    "def poker_hand_ranking(hand):\n",
    "    \"\"\"Returns a string with the name of the highest combination obtained from a list, hand, containing five strings being the cards\"\"\"\n",
    "    \n",
    "    # First, create two lists where 'values' is the list of card values and 'suits' is the corresponding list of card suits.\n",
    "    values = [c[:-1] for c in hand]\n",
    "    suits = [c[-1] for c in hand]\n",
    "    \n",
    "    # For 'values', change the value of any non-face card into it's integer value.  \n",
    "    # If the card is 'A', 'K', 'Q', 'J', then change the value resp. to 14, 13, 12, and 11.\n",
    "    for i in range(5):\n",
    "        if values[i].isdigit():\n",
    "            values[i] = int(values[i])\n",
    "        elif values[i] == 'J':\n",
    "            values[i] = 11\n",
    "        elif values[i] == 'Q':\n",
    "            values[i] = 12\n",
    "        elif values[i] == 'K':\n",
    "            values[i] = 13\n",
    "        else:\n",
    "            values[i] = 14\n",
    "            \n",
    "    values_set = set(values)\n",
    "    suits_set = set(suits)\n",
    "    m = min(values)\n",
    "    M = max(values)\n",
    "    cnt = Counter(values) # Create a counter to count the occurences of a value.\n",
    "    cnt_1 = cnt.most_common() \n",
    "    \n",
    "    if (values_set == {14, 13, 12, 11, 10} and len(suits_set) == 1):\n",
    "        return \"Royal Flush\"\n",
    "    elif len(suits_set) == 1 and ((values_set == set(range(m, (M+1)))) or (values_set == {14, 2, 3, 4, 5})):\n",
    "        return \"Straight Flush\"\n",
    "    elif cnt_1[0][1] == 4:\n",
    "        return \"Four of a Kind\"\n",
    "    elif cnt_1[0][1] == 3 and cnt_1[1][1] == 2:\n",
    "        return \"Full House\"\n",
    "    elif len(suits_set) == 1:\n",
    "        return \"Flush\"\n",
    "    elif (values_set == set(range(m, (M+1))) or values_set == {14, 2, 3, 4, 5}):\n",
    "        return \"Straight\"\n",
    "    elif cnt_1[0][1] == 3:\n",
    "        return \"Three of a Kind\"\n",
    "    elif cnt_1[0][1] == 2 and cnt_1[1][1] == 2:\n",
    "        return \"Two Pair\"\n",
    "    elif cnt_1[0][1] == 2:\n",
    "        return \"Pair\"\n",
    "    else:\n",
    "        return \"High Card\"\n",
    "    \n",
    "    \n",
    "    \n",
    "    "
   ]
  },
  {
   "cell_type": "code",
   "execution_count": 7,
   "metadata": {},
   "outputs": [
    {
     "data": {
      "text/plain": [
       "'Royal Flush'"
      ]
     },
     "execution_count": 7,
     "metadata": {},
     "output_type": "execute_result"
    }
   ],
   "source": [
    "poker_hand_ranking([\"10h\", \"Jh\", \"Qh\", \"Ah\", \"Kh\"])"
   ]
  },
  {
   "cell_type": "code",
   "execution_count": 8,
   "metadata": {},
   "outputs": [
    {
     "data": {
      "text/plain": [
       "'High Card'"
      ]
     },
     "execution_count": 8,
     "metadata": {},
     "output_type": "execute_result"
    }
   ],
   "source": [
    "poker_hand_ranking([\"3h\", \"5h\", \"Qs\", \"9h\", \"Ad\"])"
   ]
  },
  {
   "cell_type": "code",
   "execution_count": 9,
   "metadata": {},
   "outputs": [
    {
     "data": {
      "text/plain": [
       "'Four of a Kind'"
      ]
     },
     "execution_count": 9,
     "metadata": {},
     "output_type": "execute_result"
    }
   ],
   "source": [
    "poker_hand_ranking([\"10s\", \"10c\", \"8d\", \"10d\", \"10h\"])"
   ]
  },
  {
   "cell_type": "markdown",
   "metadata": {},
   "source": [
    "# STRETCH"
   ]
  },
  {
   "cell_type": "markdown",
   "metadata": {},
   "source": [
    "### 2. Implement a function `winner_is` that returns the winner given a dictionary with different players and their hands. For example:\n",
    "\n",
    "#### Example\n",
    "\n",
    "We define dictionary like\n",
    "```\n",
    "round_1 = {\"John\" = [\"10h\", \"Jh\", \"Qh\", \"Ah\", \"Kh\"], \n",
    "        \"Peter\" = [\"3h\", \"5h\", \"Qs\", \"9h\", \"Ad\"]\n",
    "}\n",
    "```\n",
    "\n",
    "Our function returns the name of the winner:\n",
    "> winner_is(round_1) -> \"John\"\n",
    "\n",
    "One table can have up to 10 players.\n"
   ]
  },
  {
   "cell_type": "code",
   "execution_count": null,
   "metadata": {},
   "outputs": [],
   "source": []
  },
  {
   "cell_type": "code",
   "execution_count": null,
   "metadata": {},
   "outputs": [],
   "source": []
  },
  {
   "cell_type": "code",
   "execution_count": null,
   "metadata": {},
   "outputs": [],
   "source": []
  },
  {
   "cell_type": "markdown",
   "metadata": {},
   "source": [
    "### 3. Create a generator that randomly gives 5 cards to every player given a list of player names\n",
    "#### Example\n",
    "\n",
    "> distribute_cards([\"John\",\"Peter\"])  -> round_1 = {\"John\" = [\"10h\", \"Jh\", \"Qh\", \"Ah\", \"Kh\"], \n",
    "        \"Peter\" = [\"3h\", \"5h\", \"Qs\", \"9h\", \"Ad\"]\n",
    "}"
   ]
  },
  {
   "cell_type": "code",
   "execution_count": null,
   "metadata": {},
   "outputs": [],
   "source": []
  },
  {
   "cell_type": "code",
   "execution_count": null,
   "metadata": {},
   "outputs": [],
   "source": []
  },
  {
   "cell_type": "code",
   "execution_count": null,
   "metadata": {},
   "outputs": [],
   "source": []
  },
  {
   "cell_type": "code",
   "execution_count": null,
   "metadata": {},
   "outputs": [],
   "source": []
  }
 ],
 "metadata": {
  "kernelspec": {
   "display_name": "Python 3",
   "language": "python",
   "name": "python3"
  },
  "language_info": {
   "codemirror_mode": {
    "name": "ipython",
    "version": 3
   },
   "file_extension": ".py",
   "mimetype": "text/x-python",
   "name": "python",
   "nbconvert_exporter": "python",
   "pygments_lexer": "ipython3",
   "version": "3.8.3"
  }
 },
 "nbformat": 4,
 "nbformat_minor": 4
}
