{
 "cells": [
  {
   "cell_type": "code",
   "execution_count": 4,
   "metadata": {
    "ExecuteTime": {
     "end_time": "2020-02-05T17:56:58.505807Z",
     "start_time": "2020-02-05T17:56:58.495305Z"
    }
   },
   "outputs": [],
   "source": [
    "# import numpy\n",
    "import numpy as np"
   ]
  },
  {
   "cell_type": "code",
   "execution_count": 5,
   "metadata": {},
   "outputs": [],
   "source": [
    "data = np.loadtxt('populations.txt')\n",
    "year, hares, lynxes, carrots = data.T  # trick: columns to variables"
   ]
  },
  {
   "cell_type": "markdown",
   "metadata": {},
   "source": [
    "## Descriptive Statistics"
   ]
  },
  {
   "cell_type": "markdown",
   "metadata": {},
   "source": [
    "#### Tasks\n",
    "\n",
    "- Compute the mean and std of the populations of each species for the years in the period.\n",
    "- Which year each species had the largest population?\n",
    "- Whose population does vary the most?\n",
    "- Compute correlations between each pair of variables. Whose populations are correlated the most?"
   ]
  },
  {
   "cell_type": "code",
   "execution_count": 6,
   "metadata": {},
   "outputs": [
    {
     "name": "stdout",
     "output_type": "stream",
     "text": [
      "For hares, the mean is 34080.95238095238 and the std is 20897.906458089667.\n",
      "For lynxes, the mean is 20166.666666666668 and the std is 16254.591536908763.\n",
      "For carrots, the mean is 42400.0 and the std is 3322.5062255844787.\n"
     ]
    }
   ],
   "source": [
    "h_mean = hares.mean()\n",
    "h_std = hares.std()\n",
    "print(f\"For hares, the mean is {h_mean} and the std is {h_std}.\")\n",
    "l_mean = lynxes.mean()\n",
    "l_std = lynxes.std()\n",
    "print(f\"For lynxes, the mean is {l_mean} and the std is {l_std}.\")\n",
    "c_mean = carrots.mean()\n",
    "c_std = carrots.std()\n",
    "print(f\"For carrots, the mean is {c_mean} and the std is {c_std}.\")\n"
   ]
  },
  {
   "cell_type": "code",
   "execution_count": 7,
   "metadata": {},
   "outputs": [
    {
     "name": "stdout",
     "output_type": "stream",
     "text": [
      "For hares, the year with the largest population is 1903.0.\n",
      "For lynxes, the year with the largest population is 1904.0.\n",
      "For carrots, the year with the largest population is 1900.0.\n"
     ]
    }
   ],
   "source": [
    "h_max_year = year[np.argmax(hares)]\n",
    "print(f\"For hares, the year with the largest population is {h_max_year}.\")\n",
    "l_max_year = year[np.argmax(lynxes)]\n",
    "print(f\"For lynxes, the year with the largest population is {l_max_year}.\")\n",
    "c_max_year = year[np.argmax(carrots)]\n",
    "print(f\"For carrots, the year with the largest population is {c_max_year}.\")\n"
   ]
  },
  {
   "cell_type": "code",
   "execution_count": 8,
   "metadata": {},
   "outputs": [
    {
     "name": "stdout",
     "output_type": "stream",
     "text": [
      "The population ranges for hares, lynxes, and carrots are resp. 69800.0, 55400.0, and 11600.0.\n",
      "The hares population varies the most because it has the maximum range and std.\n"
     ]
    }
   ],
   "source": [
    "h_range = hares.max() - hares.min()\n",
    "l_range = lynxes.max() - lynxes.min()\n",
    "c_range = carrots.max() - carrots.min()\n",
    "print(f\"The population ranges for hares, lynxes, and carrots are resp. {h_range}, {l_range}, and {c_range}.\")\n",
    "print(\"The hares population varies the most because it has the maximum range and std.\")"
   ]
  },
  {
   "cell_type": "code",
   "execution_count": 9,
   "metadata": {},
   "outputs": [
    {
     "name": "stdout",
     "output_type": "stream",
     "text": [
      "THe correlation between hares and lynxes is 0.07189206073535571.\n",
      "THe correlation between hares and carrots is -0.016603777709879402.\n",
      "THe correlation between lynxes and carrots is -0.6805771698401617.\n",
      "Lynxes and and carrots are correlated the most because their correlation coefficient is the biggest in magnitude.\n"
     ]
    }
   ],
   "source": [
    "corr_h_l = np.corrcoef(hares, lynxes)[0, 1]\n",
    "print(f\"THe correlation between hares and lynxes is {corr_h_l}.\")\n",
    "corr_h_c = np.corrcoef(hares, carrots)[0, 1]\n",
    "print(f\"THe correlation between hares and carrots is {corr_h_c}.\")\n",
    "corr_l_c = np.corrcoef(lynxes, carrots)[0, 1]\n",
    "print(f\"THe correlation between lynxes and carrots is {corr_l_c}.\")\n",
    "\n",
    "print(\"Lynxes and and carrots are correlated the most because their correlation coefficient is the biggest in magnitude.\")\n"
   ]
  },
  {
   "cell_type": "markdown",
   "metadata": {},
   "source": [
    "## Hypothesis Tests"
   ]
  },
  {
   "cell_type": "code",
   "execution_count": 10,
   "metadata": {
    "ExecuteTime": {
     "end_time": "2020-02-05T17:56:58.735622Z",
     "start_time": "2020-02-05T17:56:58.725781Z"
    }
   },
   "outputs": [],
   "source": [
    "# weights = np.concatenate((np.random.normal(85,20,25), np.random.normal(65,10,25)))\n",
    "# people weights \n",
    "weights = [94.93428306,  82.23471398, 97.95377076, 115.46059713, 80.31693251,  80.31726086, 116.58425631, \n",
    "           100.34869458,  75.61051228, 95.85120087, 75.73164614, 75.68540493, 89.83924543,  46.73439511,  \n",
    "           50.50164335,  73.75424942,  64.74337759,  91.28494665, 66.83951849, 56.75392597, 114.31297538, \n",
    "           80.48447399,  86.35056409,  56.50503628, 74.11234551,  66.1092259 ,  53.49006423,  68.75698018,\n",
    "           58.9936131 ,  62.0830625 ,  58.98293388,  83.52278185, 64.86502775,  54.42289071,  73.22544912,  \n",
    "           52.7915635 ,67.08863595,  45.40329876,  51.71813951,  66.96861236, 72.3846658 ,  66.71368281,  \n",
    "           63.84351718,  61.98896304, 50.2147801 ,  57.80155792,  60.39361229,  75.57122226, 68.4361829 , 47.36959845]"
   ]
  },
  {
   "cell_type": "code",
   "execution_count": 11,
   "metadata": {
    "ExecuteTime": {
     "end_time": "2020-02-05T17:56:58.931431Z",
     "start_time": "2020-02-05T17:56:58.926012Z"
    }
   },
   "outputs": [],
   "source": [
    "# set the significance level (alpha) to 0.05\n",
    "alpha = 0.05"
   ]
  },
  {
   "cell_type": "code",
   "execution_count": 12,
   "metadata": {
    "ExecuteTime": {
     "end_time": "2020-02-05T17:56:59.123535Z",
     "start_time": "2020-02-05T17:56:59.117117Z"
    }
   },
   "outputs": [],
   "source": [
    "\"\"\"\n",
    "Function 'evaluate_test' which prints a conclusion of hypothesis test based on p-value and alpha\n",
    "\n",
    "PARAMS:\n",
    "    p (float) - p-value from test\n",
    "    alpha - significance level\n",
    "\"\"\"\n",
    "\n",
    "def evaluate_test(p, alpha):\n",
    "    print(f'p = {round(p,2)}, alpha = {alpha}')\n",
    "    \n",
    "    if p > alpha:\n",
    "        print(f'We can not reject H0.')\n",
    "    else:\n",
    "        print(f'H0 is rejected.')"
   ]
  },
  {
   "cell_type": "markdown",
   "metadata": {
    "ExecuteTime": {
     "end_time": "2020-02-05T17:56:59.352890Z",
     "start_time": "2020-02-05T17:56:59.347623Z"
    }
   },
   "source": [
    "### Task\n",
    "- Import Shapiro-Wilk Test to test if weights are normally distributed\n",
    "- H0 = weights are normally distributed, HA = weights are not normally distributed\n",
    "- https://docs.scipy.org/doc/scipy/reference/generated/scipy.stats.shapiro.html\n"
   ]
  },
  {
   "cell_type": "code",
   "execution_count": 13,
   "metadata": {},
   "outputs": [],
   "source": [
    "from scipy.stats import shapiro"
   ]
  },
  {
   "cell_type": "markdown",
   "metadata": {
    "ExecuteTime": {
     "end_time": "2020-02-05T17:56:59.578726Z",
     "start_time": "2020-02-05T17:56:59.574044Z"
    }
   },
   "source": [
    "- use function 'evaluate_test' to make conclusion if weights are normally distributed\n"
   ]
  },
  {
   "cell_type": "code",
   "execution_count": 14,
   "metadata": {},
   "outputs": [
    {
     "data": {
      "text/plain": [
       "ShapiroResult(statistic=0.9404902458190918, pvalue=0.014088480733335018)"
      ]
     },
     "execution_count": 14,
     "metadata": {},
     "output_type": "execute_result"
    }
   ],
   "source": [
    "shapiro_test = shapiro(weights)\n",
    "shapiro_test"
   ]
  },
  {
   "cell_type": "code",
   "execution_count": 15,
   "metadata": {},
   "outputs": [
    {
     "data": {
      "text/plain": [
       "0.014088480733335018"
      ]
     },
     "execution_count": 15,
     "metadata": {},
     "output_type": "execute_result"
    }
   ],
   "source": [
    "p = shapiro_test.pvalue\n",
    "p"
   ]
  },
  {
   "cell_type": "code",
   "execution_count": 16,
   "metadata": {},
   "outputs": [
    {
     "name": "stdout",
     "output_type": "stream",
     "text": [
      "p = 0.01, alpha = 0.05\n",
      "H0 is rejected.\n"
     ]
    }
   ],
   "source": [
    "evaluate_test(p, alpha)"
   ]
  },
  {
   "cell_type": "code",
   "execution_count": 17,
   "metadata": {
    "ExecuteTime": {
     "end_time": "2020-02-05T17:57:00.504635Z",
     "start_time": "2020-02-05T17:57:00.496029Z"
    }
   },
   "outputs": [],
   "source": [
    "# salaries in first company\n",
    "salaries_company_A = [ 62779.75930907,  67487.49834604,  78998.91885801,  92801.06354333,\n",
    "        94917.76195759,  85409.43843246,  65536.36510309,  97608.88920408,\n",
    "        79613.1791369 ,  74035.25988438,  72698.71057961,  57170.2204782 ,\n",
    "        96496.56571672,  78123.01652012,  69617.56847376,  89109.14505065,\n",
    "        91809.98342107,  54010.91167324, 103259.7319888 , 113319.79557154,\n",
    "        81529.81385057,  83590.49251746, 115902.53443622,  63608.1666576 ,\n",
    "        72175.25765417,  88719.32305603,  97215.1090373 ,  80570.98830349,\n",
    "        67796.25874935,  99321.80738101]\n",
    "\n",
    "# salaries in second company\n",
    "salaries_company_B = [ 89845.96793876,  90027.93042629, 108596.08141043, 120113.67952031,\n",
    "        94794.04532001,  99565.51332692, 110927.06162603,  85471.82457925,\n",
    "        79030.8553638 ,  82644.84718934,  71592.66608011,  68244.23637394,\n",
    "       134420.97566401,  72106.76757987,  95429.7573215 ,  88285.90615416,\n",
    "       110973.4078626 ,  92323.32822085, 117740.37152488,  87412.61048855,\n",
    "        94906.53993793, 105017.39597368,  93983.46012639, 100538.051311  ,\n",
    "        95673.65143504,  61727.33698247, 105311.27474286, 113551.6401474 ,\n",
    "        87408.82036567,  85895.00912077]"
   ]
  },
  {
   "cell_type": "markdown",
   "metadata": {
    "ExecuteTime": {
     "end_time": "2020-02-05T17:57:00.718056Z",
     "start_time": "2020-02-05T17:57:00.709749Z"
    }
   },
   "source": [
    "### Task\n",
    "- test the hypothesis that mean of salaries in companies are equal\n",
    "- use t-test\n",
    "- H0: salaries are the same, HA: salaries are not the same\n"
   ]
  },
  {
   "cell_type": "code",
   "execution_count": 18,
   "metadata": {},
   "outputs": [],
   "source": [
    "import scipy.stats as st"
   ]
  },
  {
   "cell_type": "code",
   "execution_count": 19,
   "metadata": {},
   "outputs": [
    {
     "data": {
      "text/plain": [
       "Ttest_indResult(statistic=-2.960239205553994, pvalue=0.004446743273557563)"
      ]
     },
     "execution_count": 19,
     "metadata": {},
     "output_type": "execute_result"
    }
   ],
   "source": [
    "t_test = st.ttest_ind(salaries_company_A, salaries_company_B)\n",
    "t_test"
   ]
  },
  {
   "cell_type": "code",
   "execution_count": 20,
   "metadata": {},
   "outputs": [
    {
     "data": {
      "text/plain": [
       "0.004446743273557563"
      ]
     },
     "execution_count": 20,
     "metadata": {},
     "output_type": "execute_result"
    }
   ],
   "source": [
    "p = t_test.pvalue\n",
    "p"
   ]
  },
  {
   "cell_type": "code",
   "execution_count": 21,
   "metadata": {},
   "outputs": [
    {
     "name": "stdout",
     "output_type": "stream",
     "text": [
      "p = 0.0, alpha = 0.05\n",
      "H0 is rejected.\n"
     ]
    }
   ],
   "source": [
    "evaluate_test(p, alpha)"
   ]
  },
  {
   "cell_type": "code",
   "execution_count": 22,
   "metadata": {},
   "outputs": [
    {
     "data": {
      "text/plain": [
       "(82507.78449639535, 15569.509119771908)"
      ]
     },
     "execution_count": 22,
     "metadata": {},
     "output_type": "execute_result"
    }
   ],
   "source": [
    "loc_A, std_A = st.norm.fit(salaries_company_A)\n",
    "loc_A, std_A"
   ]
  },
  {
   "cell_type": "code",
   "execution_count": 23,
   "metadata": {},
   "outputs": [
    {
     "data": {
      "text/plain": [
       "(94785.36713716066, 16013.761205101173)"
      ]
     },
     "execution_count": 23,
     "metadata": {},
     "output_type": "execute_result"
    }
   ],
   "source": [
    "loc_B, std_B = st.norm.fit(salaries_company_B)\n",
    "loc_B, std_B"
   ]
  },
  {
   "cell_type": "code",
   "execution_count": null,
   "metadata": {},
   "outputs": [],
   "source": []
  }
 ],
 "metadata": {
  "kernelspec": {
   "display_name": "Python 3",
   "language": "python",
   "name": "python3"
  },
  "language_info": {
   "codemirror_mode": {
    "name": "ipython",
    "version": 3
   },
   "file_extension": ".py",
   "mimetype": "text/x-python",
   "name": "python",
   "nbconvert_exporter": "python",
   "pygments_lexer": "ipython3",
   "version": "3.8.3"
  },
  "toc": {
   "base_numbering": 1,
   "nav_menu": {},
   "number_sections": true,
   "sideBar": true,
   "skip_h1_title": false,
   "title_cell": "Table of Contents",
   "title_sidebar": "Contents",
   "toc_cell": false,
   "toc_position": {},
   "toc_section_display": true,
   "toc_window_display": false
  },
  "varInspector": {
   "cols": {
    "lenName": 16,
    "lenType": 16,
    "lenVar": 40
   },
   "kernels_config": {
    "python": {
     "delete_cmd_postfix": "",
     "delete_cmd_prefix": "del ",
     "library": "var_list.py",
     "varRefreshCmd": "print(var_dic_list())"
    },
    "r": {
     "delete_cmd_postfix": ") ",
     "delete_cmd_prefix": "rm(",
     "library": "var_list.r",
     "varRefreshCmd": "cat(var_dic_list()) "
    }
   },
   "types_to_exclude": [
    "module",
    "function",
    "builtin_function_or_method",
    "instance",
    "_Feature"
   ],
   "window_display": false
  }
 },
 "nbformat": 4,
 "nbformat_minor": 4
}
