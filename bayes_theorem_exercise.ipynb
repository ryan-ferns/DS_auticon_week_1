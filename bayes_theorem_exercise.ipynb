{
 "cells": [
  {
   "cell_type": "markdown",
   "metadata": {
    "ExecuteTime": {
     "end_time": "2020-02-05T17:56:20.532960Z",
     "start_time": "2020-02-05T17:56:20.525450Z"
    }
   },
   "source": [
    "## Bayes Theorem: Exercise\n",
    "\n",
    "A diagnostic test has a probability 0.95 of giving a positive result when applied to a person suffering\n",
    "from a certain disease, and a probability 0.10 of giving a (false) positive when applied to a non-sufferer. It is\n",
    "estimated that 0.5 % of the population are sufferers. Suppose that the test is now administered to a person about\n",
    "whom we have no relevant information relating to the disease (apart from the fact that he/she comes from this\n",
    "population). \n",
    "\n",
    "Calculate the following probabilities:\n",
    "- **(a)** that the test result will be positive;\n",
    "- **(b)** that, given a positive result, the person is a sufferer;\n",
    "- **(c)** that, given a negative result, the person is a non-sufferer;\n",
    "- **(d)** that the person will be misclassified.\n",
    "\n",
    "Use following notation:\n",
    "\n",
    "T = test positive <br>\n",
    "NT = test negative<br>\n",
    "S = sufferer<br>\n",
    "NS = non-sufferer<br>\n",
    "M = misclassified<br>\n",
    "\n",
    "Solve it by two approaches:\n",
    "1. Arithmetically (similarly tu earlier tutorial)\n",
    "2. By simulation (run the test 10000 times and compute the probabilities)"
   ]
  },
  {
   "cell_type": "code",
   "execution_count": 21,
   "metadata": {},
   "outputs": [],
   "source": [
    "#1) First Way."
   ]
  },
  {
   "cell_type": "code",
   "execution_count": 22,
   "metadata": {},
   "outputs": [],
   "source": [
    "# Known Information.\n",
    "p_T_S = 0.95\n",
    "p_T_NS = 0.10\n",
    "p_S = 0.005\n",
    "p_NS = 0.995\n"
   ]
  },
  {
   "cell_type": "code",
   "execution_count": 23,
   "metadata": {},
   "outputs": [
    {
     "name": "stdout",
     "output_type": "stream",
     "text": [
      "0.10425000000000001\n"
     ]
    }
   ],
   "source": [
    "# a) Calculate p_T.\n",
    "p_T = (p_T_S * p_S) + (p_T_NS * p_NS)\n",
    "print(p_T)"
   ]
  },
  {
   "cell_type": "code",
   "execution_count": 24,
   "metadata": {},
   "outputs": [
    {
     "name": "stdout",
     "output_type": "stream",
     "text": [
      "0.04556354916067146\n"
     ]
    }
   ],
   "source": [
    "# b) Calculate p_S_T.\n",
    "# By Bayes Theorem, p_S_T = (p_S * p_T_S) / p_T.\n",
    "p_S_T = (p_S * p_T_S) / p_T\n",
    "print(p_S_T)"
   ]
  },
  {
   "cell_type": "code",
   "execution_count": 25,
   "metadata": {},
   "outputs": [
    {
     "name": "stdout",
     "output_type": "stream",
     "text": [
      "0.9997209042701646\n"
     ]
    }
   ],
   "source": [
    "# c) Calculate p_NS_NT.\n",
    "# p_NS = (pNS_NT * p_NT) + (p_NS_T * p_T)\n",
    "# By Bayes Theorem, p_NS_T * p_T = p_T_NS * p_NS.\n",
    "# This implies p_NS = (pNS_NT * p_NT) + (p_T_NS * p_NS).\n",
    "# This implies p_NS_NT = (p_NS - (p_T_NS * p_NS)) / (p_NT).\n",
    "# p_NT = 1 - p_T\n",
    "p_NT = 1 - p_T\n",
    "p_NS_NT = (p_NS - (p_T_NS * p_NS)) / (p_NT)\n",
    "print(p_NS_NT)"
   ]
  },
  {
   "cell_type": "code",
   "execution_count": 28,
   "metadata": {},
   "outputs": [
    {
     "name": "stdout",
     "output_type": "stream",
     "text": [
      "0.09975\n"
     ]
    }
   ],
   "source": [
    "#d) Calculate p_M.\n",
    "# M = (T and NS) or (NT and S); This implies p_M = p_(T and NS) + p_(NT and S).\n",
    "# This implies p_M = (p_T_NS * p_NS) + (p_NT_S * p_S).\n",
    "# p_NT_S = (1 - p_T_S)\n",
    "p_NT_S = (1 - p_T_S)\n",
    "p_M = (p_T_NS * p_NS) + (p_NT_S * p_S)\n",
    "print(p_M)\n"
   ]
  },
  {
   "cell_type": "code",
   "execution_count": null,
   "metadata": {},
   "outputs": [],
   "source": [
    "# 2) Other way.\n",
    "# Test is run 10000 times."
   ]
  },
  {
   "cell_type": "code",
   "execution_count": 1,
   "metadata": {},
   "outputs": [
    {
     "data": {
      "text/plain": [
       "array([0, 0, 0, ..., 0, 0, 0])"
      ]
     },
     "execution_count": 1,
     "metadata": {},
     "output_type": "execute_result"
    }
   ],
   "source": [
    "import scipy.stats as st\n",
    "people = st.bernoulli(p=0.005).rvs(10000)\n",
    "people\n",
    "\n",
    "# First, we create a Bernoulli random variable which is equal to 1 if a person belongs to S and 0 if a person belongs to NS."
   ]
  },
  {
   "cell_type": "code",
   "execution_count": 2,
   "metadata": {},
   "outputs": [
    {
     "data": {
      "text/plain": [
       "0.0048"
      ]
     },
     "execution_count": 2,
     "metadata": {},
     "output_type": "execute_result"
    }
   ],
   "source": [
    "p_user = people.sum()/float(len(people))\n",
    "p_user\n",
    "\n",
    "# p_user should be close to p = 0.005."
   ]
  },
  {
   "cell_type": "code",
   "execution_count": 3,
   "metadata": {},
   "outputs": [],
   "source": [
    "results = {}\n",
    "user_results = [] \n",
    "non_user_results = [] \n",
    "counter = 0"
   ]
  },
  {
   "cell_type": "code",
   "execution_count": 4,
   "metadata": {},
   "outputs": [
    {
     "name": "stdout",
     "output_type": "stream",
     "text": [
      "finished processing row number 1000\n",
      "finished processing row number 2000\n",
      "finished processing row number 3000\n",
      "finished processing row number 4000\n",
      "finished processing row number 5000\n",
      "finished processing row number 6000\n",
      "finished processing row number 7000\n",
      "finished processing row number 8000\n",
      "finished processing row number 9000\n",
      "finished processing row number 10000\n"
     ]
    }
   ],
   "source": [
    "for person in people:\n",
    "    counter += 1\n",
    "    if counter % 1000 == 0:\n",
    "        print(\"finished processing row number %d\" %counter)\n",
    "    user_test = st.bernoulli(p=0.95)\n",
    "    non_user_test = st.bernoulli(p=0.1)\n",
    "    if person == 1:\n",
    "       results_user = user_test.rvs(1)\n",
    "       user_results.append(results_user[0])\n",
    "    else:\n",
    "        results_non_user = non_user_test.rvs(1)\n",
    "        non_user_results.append(results_non_user[0])\n",
    "\n",
    "results[\"user_results\"] = user_results\n",
    "results[\"non_user_results\"] = non_user_results\n",
    "\n",
    "# For each person, we create two Bernoulli random variables.  \n",
    "# The first random variable is equal to 1 if a person belongs to T and 0 if a person belongs to NT with p = 0.95.\n",
    "# The second random variable is equal to 1 if a person belongs to T and 0 if a person belongs to NT with p = 0.10."
   ]
  },
  {
   "cell_type": "code",
   "execution_count": 11,
   "metadata": {},
   "outputs": [],
   "source": [
    "# Let n_A be the number of people in A where A is a set. Let n_AB = n(A union B), where A and B are sets.\n",
    "n_TS = user_results.count(1)\n",
    "n_TNS = non_user_results.count(1)\n",
    "n_NTS = user_results.count(0)\n",
    "n_NTNS = non_user_results.count(0)"
   ]
  },
  {
   "cell_type": "code",
   "execution_count": 20,
   "metadata": {},
   "outputs": [
    {
     "name": "stdout",
     "output_type": "stream",
     "text": [
      "0.1009\n"
     ]
    }
   ],
   "source": [
    "# a)\n",
    "n_T = n_TS + n_TNS\n",
    "p_T = n_T / float(len(people))\n",
    "print(p_T)"
   ]
  },
  {
   "cell_type": "code",
   "execution_count": 16,
   "metadata": {},
   "outputs": [
    {
     "name": "stdout",
     "output_type": "stream",
     "text": [
      "0.04658077304261645\n"
     ]
    }
   ],
   "source": [
    "# b)\n",
    "p_S_T = float(n_TS / n_T)\n",
    "print(p_S_T)"
   ]
  },
  {
   "cell_type": "code",
   "execution_count": 17,
   "metadata": {},
   "outputs": [
    {
     "name": "stdout",
     "output_type": "stream",
     "text": [
      "0.9998887776665555\n"
     ]
    }
   ],
   "source": [
    "# c)\n",
    "n_NT = n_NTS + n_NTNS\n",
    "p_NS_NT = float(n_NTNS / n_NT)\n",
    "print(p_NS_NT)"
   ]
  },
  {
   "cell_type": "code",
   "execution_count": 19,
   "metadata": {},
   "outputs": [
    {
     "name": "stdout",
     "output_type": "stream",
     "text": [
      "0.0963\n"
     ]
    }
   ],
   "source": [
    "# d)\n",
    "# M = (T and NS) or (NT and S)\n",
    "n_M = n_TNS + n_NTS\n",
    "p_M = n_M / float(len(people))\n",
    "print(p_M)"
   ]
  },
  {
   "cell_type": "code",
   "execution_count": null,
   "metadata": {},
   "outputs": [],
   "source": []
  }
 ],
 "metadata": {
  "kernelspec": {
   "display_name": "Python 3",
   "language": "python",
   "name": "python3"
  },
  "language_info": {
   "codemirror_mode": {
    "name": "ipython",
    "version": 3
   },
   "file_extension": ".py",
   "mimetype": "text/x-python",
   "name": "python",
   "nbconvert_exporter": "python",
   "pygments_lexer": "ipython3",
   "version": "3.8.3"
  },
  "toc": {
   "base_numbering": 1,
   "nav_menu": {},
   "number_sections": true,
   "sideBar": true,
   "skip_h1_title": false,
   "title_cell": "Table of Contents",
   "title_sidebar": "Contents",
   "toc_cell": false,
   "toc_position": {},
   "toc_section_display": true,
   "toc_window_display": false
  },
  "varInspector": {
   "cols": {
    "lenName": 16,
    "lenType": 16,
    "lenVar": 40
   },
   "kernels_config": {
    "python": {
     "delete_cmd_postfix": "",
     "delete_cmd_prefix": "del ",
     "library": "var_list.py",
     "varRefreshCmd": "print(var_dic_list())"
    },
    "r": {
     "delete_cmd_postfix": ") ",
     "delete_cmd_prefix": "rm(",
     "library": "var_list.r",
     "varRefreshCmd": "cat(var_dic_list()) "
    }
   },
   "types_to_exclude": [
    "module",
    "function",
    "builtin_function_or_method",
    "instance",
    "_Feature"
   ],
   "window_display": false
  }
 },
 "nbformat": 4,
 "nbformat_minor": 4
}
