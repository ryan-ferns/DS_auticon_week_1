{
 "cells": [
  {
   "cell_type": "markdown",
   "metadata": {},
   "source": [
    "#### Lecture Protocol\n",
    "1. Use the raise hand on Zoom to ask questions. I will reach and answer your question as soon as I can.\n",
    "\n",
    "2. Please keep microphones on mute otherwise.\n",
    "\n",
    "3. For additional questions, I will be taking breaks in between lectures approximately every 45-50 minutes and any pending questions or reexplanation of a concept can be done.\n",
    "\n",
    "4. Enjoy the lecture!"
   ]
  },
  {
   "cell_type": "markdown",
   "metadata": {},
   "source": [
    "### Agenda\n",
    "\n",
    " * #### Basic Syntax and Data Types (20 min)\n",
    " * #### Errors and Exceptions Handling (5 min)\n",
    " * #### Handling date and time in Python (15 min)\n",
    " * #### Discussion about solving specific Python challenge (30 min)"
   ]
  },
  {
   "cell_type": "markdown",
   "metadata": {},
   "source": [
    "# <center> W1D2. Python Programming"
   ]
  },
  {
   "cell_type": "markdown",
   "metadata": {},
   "source": [
    "## 1. Basic Syntax and Data Types"
   ]
  },
  {
   "cell_type": "markdown",
   "metadata": {},
   "source": [
    "### Built in Data Types"
   ]
  },
  {
   "cell_type": "markdown",
   "metadata": {},
   "source": [
    "#### List\n",
    "List is an accessible set of values which ordered and can be accessed using indices"
   ]
  },
  {
   "cell_type": "code",
   "execution_count": 2,
   "metadata": {},
   "outputs": [
    {
     "name": "stdout",
     "output_type": "stream",
     "text": [
      "[1, 2, 3, 4, 5]\n",
      "[1, 2, 3, 4, 5]\n",
      "[1, 2, 3, 4, 5]\n",
      "[1, 2, 3, 4, 5]\n",
      "[1, 2, 3, 4, 5]\n",
      "variable a is a <class 'list'> with values[1, 2, 3, 4, 5]\n"
     ]
    }
   ],
   "source": [
    "#List\n",
    "a = [1,2,3,4,5]\n",
    "for i in a:\n",
    "    print(str(a))\n",
    "#print(\"variable a is a \" + str(type(a))+\" with values\"+str(a))"
   ]
  },
  {
   "cell_type": "code",
   "execution_count": 3,
   "metadata": {},
   "outputs": [],
   "source": [
    "b = ['a','b','c','d','e']"
   ]
  },
  {
   "cell_type": "code",
   "execution_count": 4,
   "metadata": {},
   "outputs": [
    {
     "name": "stdout",
     "output_type": "stream",
     "text": [
      "['a', 'b', 'c', 'd', 'e']\n"
     ]
    }
   ],
   "source": [
    "print(b)"
   ]
  },
  {
   "cell_type": "code",
   "execution_count": 5,
   "metadata": {},
   "outputs": [],
   "source": [
    "c=[1,2.5,True,'x']"
   ]
  },
  {
   "cell_type": "code",
   "execution_count": 6,
   "metadata": {},
   "outputs": [
    {
     "name": "stdout",
     "output_type": "stream",
     "text": [
      "[1, 2.5, True, 'x']\n"
     ]
    }
   ],
   "source": [
    "print(c)"
   ]
  },
  {
   "cell_type": "code",
   "execution_count": 7,
   "metadata": {},
   "outputs": [
    {
     "data": {
      "text/plain": [
       "4"
      ]
     },
     "execution_count": 7,
     "metadata": {},
     "output_type": "execute_result"
    }
   ],
   "source": [
    "len(c)"
   ]
  },
  {
   "cell_type": "code",
   "execution_count": 8,
   "metadata": {},
   "outputs": [
    {
     "data": {
      "text/plain": [
       "'x'"
      ]
     },
     "execution_count": 8,
     "metadata": {},
     "output_type": "execute_result"
    }
   ],
   "source": [
    "c[len(c)-1]"
   ]
  },
  {
   "cell_type": "code",
   "execution_count": 9,
   "metadata": {},
   "outputs": [
    {
     "data": {
      "text/plain": [
       "'x'"
      ]
     },
     "execution_count": 9,
     "metadata": {},
     "output_type": "execute_result"
    }
   ],
   "source": [
    "c[-1]"
   ]
  },
  {
   "cell_type": "markdown",
   "metadata": {},
   "source": [
    "#### Find index of a list element"
   ]
  },
  {
   "cell_type": "code",
   "execution_count": 10,
   "metadata": {},
   "outputs": [
    {
     "ename": "NameError",
     "evalue": "name 'list1' is not defined",
     "output_type": "error",
     "traceback": [
      "\u001b[0;31m---------------------------------------------------------------------------\u001b[0m",
      "\u001b[0;31mNameError\u001b[0m                                 Traceback (most recent call last)",
      "\u001b[0;32m<ipython-input-10-d73c07db342e>\u001b[0m in \u001b[0;36m<module>\u001b[0;34m\u001b[0m\n\u001b[0;32m----> 1\u001b[0;31m \u001b[0mlist1\u001b[0m\u001b[0;34m.\u001b[0m\u001b[0mindex\u001b[0m\u001b[0;34m(\u001b[0m\u001b[0;36m5\u001b[0m\u001b[0;34m)\u001b[0m\u001b[0;34m\u001b[0m\u001b[0;34m\u001b[0m\u001b[0m\n\u001b[0m",
      "\u001b[0;31mNameError\u001b[0m: name 'list1' is not defined"
     ]
    }
   ],
   "source": [
    "list1.index(5)"
   ]
  },
  {
   "cell_type": "code",
   "execution_count": 11,
   "metadata": {},
   "outputs": [
    {
     "data": {
      "text/plain": [
       "4"
      ]
     },
     "execution_count": 11,
     "metadata": {},
     "output_type": "execute_result"
    }
   ],
   "source": [
    "a.index(5)"
   ]
  },
  {
   "cell_type": "markdown",
   "metadata": {},
   "source": [
    "#### Find all indices of an element in a list\n",
    "Since the <code>index</code> function only returns the first index of an element we need another way to find all indices of a list. This can be done as below using <b> list comprehension</b>"
   ]
  },
  {
   "cell_type": "code",
   "execution_count": 2,
   "metadata": {},
   "outputs": [],
   "source": [
    "new_list = [0,3,4,5,7,8,3,3,7,9,5,5]"
   ]
  },
  {
   "cell_type": "code",
   "execution_count": 3,
   "metadata": {},
   "outputs": [
    {
     "data": {
      "text/plain": [
       "[0, 3, 4, 5, 7, 8, 3, 3, 7, 9, 5, 5]"
      ]
     },
     "execution_count": 3,
     "metadata": {},
     "output_type": "execute_result"
    }
   ],
   "source": [
    "new_list"
   ]
  },
  {
   "cell_type": "code",
   "execution_count": 4,
   "metadata": {},
   "outputs": [
    {
     "data": {
      "text/plain": [
       "[1, 6, 7]"
      ]
     },
     "execution_count": 4,
     "metadata": {},
     "output_type": "execute_result"
    }
   ],
   "source": [
    "#long way of manipulating list\n",
    "output_list = []\n",
    "for index in range(len(new_list)):\n",
    "    if new_list[index] ==3:\n",
    "        output_list.append(index)\n",
    "output_list"
   ]
  },
  {
   "cell_type": "code",
   "execution_count": 15,
   "metadata": {},
   "outputs": [
    {
     "data": {
      "text/plain": [
       "[5, 8, 9, 10, 12, 13, 8, 8, 12, 14, 10, 10]"
      ]
     },
     "execution_count": 15,
     "metadata": {},
     "output_type": "execute_result"
    }
   ],
   "source": [
    "[x+5 for x in new_list]"
   ]
  },
  {
   "cell_type": "code",
   "execution_count": 5,
   "metadata": {},
   "outputs": [
    {
     "data": {
      "text/plain": [
       "[1, 6, 7]"
      ]
     },
     "execution_count": 5,
     "metadata": {},
     "output_type": "execute_result"
    }
   ],
   "source": [
    "#list comprehension way - The more Pythonic way!\n",
    "[index for index, value in enumerate(new_list) if value == 3]"
   ]
  },
  {
   "cell_type": "code",
   "execution_count": 6,
   "metadata": {},
   "outputs": [
    {
     "data": {
      "text/plain": [
       "[(0, 0),\n",
       " (1, 3),\n",
       " (2, 4),\n",
       " (3, 5),\n",
       " (4, 7),\n",
       " (5, 8),\n",
       " (6, 3),\n",
       " (7, 3),\n",
       " (8, 7),\n",
       " (9, 9),\n",
       " (10, 5),\n",
       " (11, 5)]"
      ]
     },
     "execution_count": 6,
     "metadata": {},
     "output_type": "execute_result"
    }
   ],
   "source": [
    "list(enumerate(new_list))"
   ]
  },
  {
   "cell_type": "markdown",
   "metadata": {},
   "source": [
    "Let's wrap this in a function"
   ]
  },
  {
   "cell_type": "code",
   "execution_count": 7,
   "metadata": {},
   "outputs": [],
   "source": [
    "def get_indices(input_list=[],element =0):\n",
    "    output = [index for index, value in enumerate(input_list) if value == element]\n",
    "    return output"
   ]
  },
  {
   "cell_type": "code",
   "execution_count": 22,
   "metadata": {},
   "outputs": [
    {
     "data": {
      "text/plain": [
       "[0, 1]"
      ]
     },
     "execution_count": 22,
     "metadata": {},
     "output_type": "execute_result"
    }
   ],
   "source": [
    "get_indices([3,3,4,5,6],3)"
   ]
  },
  {
   "cell_type": "code",
   "execution_count": 23,
   "metadata": {},
   "outputs": [
    {
     "data": {
      "text/plain": [
       "[1, 6, 7]"
      ]
     },
     "execution_count": 23,
     "metadata": {},
     "output_type": "execute_result"
    }
   ],
   "source": [
    "get_indices(new_list,3)"
   ]
  },
  {
   "cell_type": "code",
   "execution_count": 24,
   "metadata": {},
   "outputs": [
    {
     "data": {
      "text/plain": [
       "[]"
      ]
     },
     "execution_count": 24,
     "metadata": {},
     "output_type": "execute_result"
    }
   ],
   "source": [
    "get_indices(new_list,1)"
   ]
  },
  {
   "cell_type": "markdown",
   "metadata": {},
   "source": [
    "#### Dictionaries\n",
    "Dictionaries are unordered pairs of keys and corresponding values"
   ]
  },
  {
   "cell_type": "code",
   "execution_count": 25,
   "metadata": {},
   "outputs": [],
   "source": [
    "account_details = {'Name':'Jack Sparrow','Account_Type':'Checking','Branch':'North York','Age':32}"
   ]
  },
  {
   "cell_type": "code",
   "execution_count": 26,
   "metadata": {},
   "outputs": [
    {
     "data": {
      "text/plain": [
       "'Jack Sparrow'"
      ]
     },
     "execution_count": 26,
     "metadata": {},
     "output_type": "execute_result"
    }
   ],
   "source": [
    "account_details['Name']"
   ]
  },
  {
   "cell_type": "code",
   "execution_count": 27,
   "metadata": {},
   "outputs": [
    {
     "data": {
      "text/plain": [
       "dict_keys(['Name', 'Account_Type', 'Branch', 'Age'])"
      ]
     },
     "execution_count": 27,
     "metadata": {},
     "output_type": "execute_result"
    }
   ],
   "source": [
    "account_details.keys()"
   ]
  },
  {
   "cell_type": "code",
   "execution_count": 28,
   "metadata": {},
   "outputs": [
    {
     "data": {
      "text/plain": [
       "dict_values(['Jack Sparrow', 'Checking', 'North York', 32])"
      ]
     },
     "execution_count": 28,
     "metadata": {},
     "output_type": "execute_result"
    }
   ],
   "source": [
    "account_details.values()"
   ]
  },
  {
   "cell_type": "code",
   "execution_count": 29,
   "metadata": {},
   "outputs": [
    {
     "data": {
      "text/plain": [
       "dict_items([('Name', 'Jack Sparrow'), ('Account_Type', 'Checking'), ('Branch', 'North York'), ('Age', 32)])"
      ]
     },
     "execution_count": 29,
     "metadata": {},
     "output_type": "execute_result"
    }
   ],
   "source": [
    "account_details.items()"
   ]
  },
  {
   "cell_type": "code",
   "execution_count": 30,
   "metadata": {},
   "outputs": [
    {
     "data": {
      "text/plain": [
       "dict_keys(['Name', 'Account_Type', 'Branch', 'Age'])"
      ]
     },
     "execution_count": 30,
     "metadata": {},
     "output_type": "execute_result"
    }
   ],
   "source": [
    "account_details.keys()"
   ]
  },
  {
   "cell_type": "code",
   "execution_count": 31,
   "metadata": {},
   "outputs": [
    {
     "data": {
      "text/plain": [
       "dict_values(['Jack Sparrow', 'Checking', 'North York', 32])"
      ]
     },
     "execution_count": 31,
     "metadata": {},
     "output_type": "execute_result"
    }
   ],
   "source": [
    "account_details.values()"
   ]
  },
  {
   "cell_type": "markdown",
   "metadata": {},
   "source": [
    "#### Why do we need dictionaries if we have lists?\n",
    "\n",
    "Answer: One of the reasons is dictionaries can have labels or keys associated with a value whereas a list only has an index. In a list the order matters, in a dictionary, the order does not matter"
   ]
  },
  {
   "cell_type": "markdown",
   "metadata": {},
   "source": [
    "#### Tuples\n",
    "Tuples are ordered collection of objects that are immutable"
   ]
  },
  {
   "cell_type": "code",
   "execution_count": 36,
   "metadata": {},
   "outputs": [
    {
     "name": "stdout",
     "output_type": "stream",
     "text": [
      "physics\n",
      "(2, 3, 4, 5)\n"
     ]
    }
   ],
   "source": [
    "tup0 = ()\n",
    "tup1 = ('physics', 'chemistry', 1997, 2000)\n",
    "tup2 = (1, 2, 3, 4, 5, 6, 7 )\n",
    "print (tup1[0] )\n",
    "print (tup2[1:5] )"
   ]
  },
  {
   "cell_type": "code",
   "execution_count": 33,
   "metadata": {},
   "outputs": [
    {
     "name": "stdout",
     "output_type": "stream",
     "text": [
      "physics\n",
      "chemistry\n",
      "1997\n",
      "2000\n"
     ]
    }
   ],
   "source": [
    "for i in tup1:\n",
    "    print (i)"
   ]
  },
  {
   "cell_type": "code",
   "execution_count": 37,
   "metadata": {},
   "outputs": [
    {
     "ename": "TypeError",
     "evalue": "'tuple' object does not support item assignment",
     "output_type": "error",
     "traceback": [
      "\u001b[0;31m---------------------------------------------------------------------------\u001b[0m",
      "\u001b[0;31mTypeError\u001b[0m                                 Traceback (most recent call last)",
      "\u001b[0;32m<ipython-input-37-b534bdb70b74>\u001b[0m in \u001b[0;36m<module>\u001b[0;34m\u001b[0m\n\u001b[1;32m      4\u001b[0m \u001b[0;34m\u001b[0m\u001b[0m\n\u001b[1;32m      5\u001b[0m \u001b[0;31m# Following action is not valid for tuples\u001b[0m\u001b[0;34m\u001b[0m\u001b[0;34m\u001b[0m\u001b[0;34m\u001b[0m\u001b[0m\n\u001b[0;32m----> 6\u001b[0;31m \u001b[0mtup1\u001b[0m\u001b[0;34m[\u001b[0m\u001b[0;36m0\u001b[0m\u001b[0;34m]\u001b[0m \u001b[0;34m=\u001b[0m \u001b[0;36m100\u001b[0m\u001b[0;34m\u001b[0m\u001b[0;34m\u001b[0m\u001b[0m\n\u001b[0m",
      "\u001b[0;31mTypeError\u001b[0m: 'tuple' object does not support item assignment"
     ]
    }
   ],
   "source": [
    "#Updating tuples. We cannot do that\n",
    "tup1 = (12, 34.56)\n",
    "tup2 = ('abc', 'xyz')\n",
    "\n",
    "# Following action is not valid for tuples\n",
    "tup1[0] = 100\n"
   ]
  },
  {
   "cell_type": "code",
   "execution_count": 35,
   "metadata": {},
   "outputs": [
    {
     "name": "stdout",
     "output_type": "stream",
     "text": [
      "(12, 34.56)\n"
     ]
    }
   ],
   "source": [
    "print(tup1)"
   ]
  },
  {
   "cell_type": "code",
   "execution_count": 38,
   "metadata": {},
   "outputs": [
    {
     "name": "stdout",
     "output_type": "stream",
     "text": [
      "Type of Person: <class 'type'>\n",
      "\n",
      "Representation: Person(name='Bob', age=30, gender='male')\n",
      "\n",
      "Field by name: female\n"
     ]
    }
   ],
   "source": [
    "import collections\n",
    "#collections.namedtuple(typename, field_names)\n",
    "\n",
    "Person = collections.namedtuple('Person', 'name age gender')\n",
    "\n",
    "print ('Type of Person:', type(Person))\n",
    "\n",
    "bob = Person(name='Bob', age=30, gender='male')\n",
    "print ('\\nRepresentation:', bob)\n",
    "\n",
    "jane = Person(name='Jane', age=29, gender='female')\n",
    "print ('\\nField by name:', jane.gender)\n"
   ]
  },
  {
   "cell_type": "markdown",
   "metadata": {},
   "source": [
    "## 5. Handling Date and Time in python\n",
    "[ source: https://www.dataquest.io/blog/python-datetime-tutorial/ ]"
   ]
  },
  {
   "cell_type": "markdown",
   "metadata": {},
   "source": [
    "#### get current date time"
   ]
  },
  {
   "cell_type": "code",
   "execution_count": 40,
   "metadata": {},
   "outputs": [
    {
     "name": "stdout",
     "output_type": "stream",
     "text": [
      "2020-09-09 14:49:44.060284\n",
      "Type :-  <class 'datetime.datetime'>\n"
     ]
    }
   ],
   "source": [
    "# import datetime class from datetime module\n",
    "from datetime import datetime\n",
    "\n",
    "# get current date\n",
    "datetime_object = datetime.now()\n",
    "print(datetime_object)\n",
    "print('Type :- ',type(datetime_object))"
   ]
  },
  {
   "cell_type": "code",
   "execution_count": 41,
   "metadata": {},
   "outputs": [
    {
     "name": "stdout",
     "output_type": "stream",
     "text": [
      "2018-11-03 00:00:00\n",
      "Type:  <class 'datetime.datetime'>\n"
     ]
    }
   ],
   "source": [
    "my_string = '2018-11-3'\n",
    "\n",
    "# Create date object in given time format yyyy-mm-dd\n",
    "my_date = datetime.strptime(my_string, \"%Y-%m-%d\")\n",
    "\n",
    "print(my_date)\n",
    "print('Type: ',type(my_date))"
   ]
  },
  {
   "cell_type": "code",
   "execution_count": 42,
   "metadata": {},
   "outputs": [
    {
     "name": "stdout",
     "output_type": "stream",
     "text": [
      "Month:  11\n",
      "Year:  2018\n"
     ]
    }
   ],
   "source": [
    "print('Month: ', my_date.month) # To Get month from date\n",
    "print('Year: ', my_date.year) # To Get month from year"
   ]
  },
  {
   "cell_type": "markdown",
   "metadata": {},
   "source": [
    "#### Measuring Time Span with Timedelta Objects"
   ]
  },
  {
   "cell_type": "code",
   "execution_count": 43,
   "metadata": {},
   "outputs": [
    {
     "name": "stdout",
     "output_type": "stream",
     "text": [
      "Today's date:  2020-09-09 14:59:52.210864\n"
     ]
    }
   ],
   "source": [
    "#import datetime\n",
    "from datetime import datetime, timedelta\n",
    "# get current time\n",
    "now = datetime.now()\n",
    "print (\"Today's date: \", str(now))"
   ]
  },
  {
   "cell_type": "code",
   "execution_count": 44,
   "metadata": {},
   "outputs": [
    {
     "name": "stdout",
     "output_type": "stream",
     "text": [
      "Date after 15 days:  2020-09-24 14:59:52.210864\n",
      "Date two weeks ago:  2020-08-26 14:59:52.210864\n",
      "two_weeks_ago object type:  <class 'datetime.datetime'>\n"
     ]
    }
   ],
   "source": [
    "#add 15 days to current date\n",
    "future_date_after_15days = now + timedelta(days = 15)\n",
    "print('Date after 15 days: ', future_date_after_15days)\n",
    "\n",
    "#subtract 2 weeks from current date\n",
    "two_weeks_ago = now - timedelta(weeks = 2)\n",
    "print('Date two weeks ago: ', two_weeks_ago)\n",
    "print('two_weeks_ago object type: ', type(two_weeks_ago))"
   ]
  },
  {
   "cell_type": "markdown",
   "metadata": {},
   "source": [
    "#### Find the Difference Between Two Dates and Times"
   ]
  },
  {
   "cell_type": "code",
   "execution_count": 45,
   "metadata": {},
   "outputs": [
    {
     "name": "stdout",
     "output_type": "stream",
     "text": [
      "Difference:  -8\n",
      "delta object type:  <class 'datetime.timedelta'>\n"
     ]
    }
   ],
   "source": [
    "# import datetime\n",
    "from datetime import date\n",
    "# Create two dates\n",
    "date1 = date(2008, 8, 18)\n",
    "date2 = date(2008, 8, 10)\n",
    "\n",
    "# Difference between two dates\n",
    "delta = date2 - date1\n",
    "print(\"Difference: \", delta.days)\n",
    "print('delta object type: ', type(delta))"
   ]
  },
  {
   "cell_type": "code",
   "execution_count": null,
   "metadata": {},
   "outputs": [],
   "source": []
  },
  {
   "cell_type": "markdown",
   "metadata": {},
   "source": [
    "#### Formatting Dates: More on <code>strftime()</code> and <code>strptime()</code>"
   ]
  },
  {
   "cell_type": "markdown",
   "metadata": {},
   "source": [
    "<code>strptime()</code> is the method we used before, and you’ll recall that it can turn a date and time that’s formatted as a text string into a datetime object, in the following format:\n",
    "\n",
    "<code>time.strptime(string, format)</code>\n",
    "\n",
    "Note that it takes two arguments:\n",
    "\n",
    "<code>string</code> − the time in string format that we want to convert\n",
    "\n",
    "<code>format</code> − the specific formatting of the time in the string, so that <code>strptime()</code> can parse it correctly"
   ]
  },
  {
   "cell_type": "code",
   "execution_count": 46,
   "metadata": {},
   "outputs": [
    {
     "name": "stdout",
     "output_type": "stream",
     "text": [
      "date_object:  2019-08-01 00:00:00\n"
     ]
    }
   ],
   "source": [
    "# import datetime\n",
    "from datetime import datetime\n",
    "date_string = \"1 August, 2019\"\n",
    "\n",
    "# format date\n",
    "date_object = datetime.strptime(date_string, \"%d %B, %Y\")\n",
    "\n",
    "print(\"date_object: \", date_object)"
   ]
  },
  {
   "cell_type": "markdown",
   "metadata": {},
   "source": [
    "#### Below is a list of directives used in <code>strftime()</code> and their meanings"
   ]
  },
  {
   "cell_type": "markdown",
   "metadata": {
    "slideshow": {
     "slide_type": "-"
    }
   },
   "source": [
    "| Directive | Meaning|\n",
    "|-----------|--------|\n",
    "| %a |Weekday abb. Sun, Mon, …, Sat (en_US)|\n",
    "| %A | Weekday Full Sunday,Monday (en_US)|\n",
    "| %w | weekday as decimal 0,1,2,3.. |\n",
    "| %d | day of month as decimal 0,1,2,...30 ||\n",
    "| %b | Month Jan, Feb, …, Dec (en_US) |\n",
    "| %B | Month January,February... |\n",
    "| %m | Month as a zero-padded decimal |\n",
    "| %y | Year without century as zero padded decimal 00,01,..,99 |\n",
    "| %Y | Year with century 1970,1980 etc. |\n",
    "| %H | our (24-hour clock) as a zero-padded decimal number.00, 01, …, 23 |\n",
    "| %I | Hour (12-hour clock) as a zero-padded decimal number.01, 02, …, 12 |\n",
    "| %p | Am,PM |\n",
    "| %M | Minute 00,01..,59 |\n",
    "| %S | Second 00,01..,59 |\n"
   ]
  },
  {
   "cell_type": "markdown",
   "metadata": {},
   "source": [
    "#### Basic if else"
   ]
  },
  {
   "cell_type": "code",
   "execution_count": 48,
   "metadata": {},
   "outputs": [
    {
     "name": "stdout",
     "output_type": "stream",
     "text": [
      "you are a kid\n"
     ]
    }
   ],
   "source": [
    "age = [5, 50, 60]\n",
    "age = age[0]\n",
    "if int(age) > 30 and int(age)<=100:\n",
    "    print('you are an adult')\n",
    "elif int(age) < 30 and int(age) >=15:\n",
    "    print('you are a young adult')\n",
    "elif int(age) >=0 and int(age) <15:\n",
    "    print('you are a kid')\n",
    "else:\n",
    "    print(' I do not understand the input!')"
   ]
  },
  {
   "cell_type": "code",
   "execution_count": null,
   "metadata": {},
   "outputs": [],
   "source": []
  },
  {
   "cell_type": "code",
   "execution_count": 49,
   "metadata": {},
   "outputs": [
    {
     "name": "stdout",
     "output_type": "stream",
     "text": [
      "you are a kid\n",
      "you are an adult\n",
      "you are an adult\n"
     ]
    }
   ],
   "source": [
    "ages = [5, 50, 60]\n",
    "for age in ages:\n",
    "    if int(age) > 30 and int(age)<=100:\n",
    "        print('you are an adult')\n",
    "    elif int(age) < 30 and int(age) >=15:\n",
    "        print('you are a young adult')\n",
    "    elif int(age) >=0 and int(age) <15:\n",
    "        print('you are a kid')\n",
    "    else:\n",
    "        print(' I do not understand the input!')"
   ]
  },
  {
   "cell_type": "markdown",
   "metadata": {},
   "source": [
    "## 7. Python Student challenge"
   ]
  },
  {
   "cell_type": "markdown",
   "metadata": {},
   "source": [
    "A prison can be represented as a list of cells. Each cell contains exactly one prisoner. A <b>1</b> represents an unlocked cell and a <b>0</b> represents a locked cell.\n",
    "\n",
    "Starting from the leftmost cell, you are tasked with seeing how many prisoners you can set free, with a catch. Each time you free a prisoner, the locked cells become unlocked, and the unlocked cells become locked again.\n",
    "\n",
    "Notes:\n",
    "* You must free a prisoner in order for the locks to switch. So in second example where the input is [1, 1, 1], after you release the first prisoner, the locks change to [0, 0, 0]. Since all cells are locked, you can release no more prisoners.\n",
    "* You always start with the leftmost element in the list (the first prison cell). If all the prison cells to your right are zeroes, you cannot free any more prisoners."
   ]
  },
  {
   "cell_type": "markdown",
   "metadata": {},
   "source": [
    "<code>[1, 1, 0, 0, 0, 1, 0] </code>\n",
    "#### You free the prisoner in the 1st cell.\n",
    "\n",
    "<code>[0, 0, 1, 1, 1, 0, 1]</code> \n",
    "#### You free the prisoner in the 3rd cell (2nd one locked).\n",
    "\n",
    "<code>[1, 1, 0, 0, 0, 1, 0]</code>\n",
    "#### You free the prisoner in the 6th cell (3rd, 4th and 5th locked).\n",
    "\n",
    "<code>[0, 0, 1, 1, 1, 0, 1]</code>\n",
    "#### You free the prisoner in the 7th cell - and you are done!\n",
    "\n",
    "Here we have freed <b>4</b> prisoners in total!\n",
    "\n",
    "#### Example Outputs:\n",
    "\n",
    "<code>freed_prisoners([1, 1, 0, 0, 0, 1, 0]) ➞ 4</code>\n",
    "\n",
    "<code>freed_prisoners([1, 1, 1]) ➞ 1</code>\n",
    "\n",
    "<code>freed_prisoners([0, 0, 0]) ➞ 0</code>\n",
    "\n",
    "<code>freed_prisoners([0, 1, 1, 1]) ➞ 1</code>"
   ]
  },
  {
   "cell_type": "code",
   "execution_count": 8,
   "metadata": {},
   "outputs": [],
   "source": [
    "#solution\n",
    "def freed_prisoners(arrangement):\n",
    "    result =0\n",
    "    last_index = len(arrangement)\n",
    "    current_index =0\n",
    "    try:\n",
    "        arrangement.index(1)\n",
    "        while current_index <last_index:\n",
    "            print('prisoners freed so far '+str(result))\n",
    "            print('current index is: '+str(current_index)+'\\n')\n",
    "            print('current list is: '+str(arrangement)+'\\n')\n",
    "            one_index = arrangement.index(1,current_index,last_index)\n",
    "            print('first one in current list is at '+str(one_index)+'\\n')\n",
    "            \n",
    "            current_index = one_index+1\n",
    "            \n",
    "            result +=1\n",
    "            one_indices=get_indices(arrangement,1)\n",
    "            zero_indices=get_indices(arrangement,0)\n",
    "            for index in one_indices:\n",
    "                arrangement[index]=0\n",
    "            for index in zero_indices:\n",
    "                arrangement[index]=1\n",
    "    except Exception as e:\n",
    "        pass\n",
    "    return result"
   ]
  },
  {
   "cell_type": "code",
   "execution_count": 12,
   "metadata": {},
   "outputs": [
    {
     "name": "stdout",
     "output_type": "stream",
     "text": [
      "prisoners freed so far 0\n",
      "current index is: 0\n",
      "\n",
      "current list is: [1, 1, 1]\n",
      "\n",
      "first one in current list is at 0\n",
      "\n",
      "prisoners freed so far 1\n",
      "current index is: 1\n",
      "\n",
      "current list is: [0, 0, 0]\n",
      "\n"
     ]
    },
    {
     "data": {
      "text/plain": [
       "1"
      ]
     },
     "execution_count": 12,
     "metadata": {},
     "output_type": "execute_result"
    }
   ],
   "source": [
    "freed_prisoners([1, 1, 1])"
   ]
  },
  {
   "cell_type": "code",
   "execution_count": 10,
   "metadata": {},
   "outputs": [
    {
     "name": "stdout",
     "output_type": "stream",
     "text": [
      "prisoners freed so far 0\n",
      "current index is: 0\n",
      "\n",
      "current list is: [0, 1, 1, 1]\n",
      "\n",
      "first one in current list is at 1\n",
      "\n",
      "prisoners freed so far 1\n",
      "current index is: 2\n",
      "\n",
      "current list is: [1, 0, 0, 0]\n",
      "\n"
     ]
    },
    {
     "data": {
      "text/plain": [
       "1"
      ]
     },
     "execution_count": 10,
     "metadata": {},
     "output_type": "execute_result"
    }
   ],
   "source": [
    "freed_prisoners([0, 1, 1, 1])"
   ]
  },
  {
   "cell_type": "code",
   "execution_count": 11,
   "metadata": {},
   "outputs": [
    {
     "data": {
      "text/plain": [
       "0"
      ]
     },
     "execution_count": 11,
     "metadata": {},
     "output_type": "execute_result"
    }
   ],
   "source": [
    "freed_prisoners([0, 0, 0])"
   ]
  },
  {
   "cell_type": "code",
   "execution_count": 9,
   "metadata": {},
   "outputs": [
    {
     "name": "stdout",
     "output_type": "stream",
     "text": [
      "prisoners freed so far 0\n",
      "current index is: 0\n",
      "\n",
      "current list is: [1, 1, 0, 0, 0, 1, 0]\n",
      "\n",
      "first one in current list is at 0\n",
      "\n",
      "prisoners freed so far 1\n",
      "current index is: 1\n",
      "\n",
      "current list is: [0, 0, 1, 1, 1, 0, 1]\n",
      "\n",
      "first one in current list is at 2\n",
      "\n",
      "prisoners freed so far 2\n",
      "current index is: 3\n",
      "\n",
      "current list is: [1, 1, 0, 0, 0, 1, 0]\n",
      "\n",
      "first one in current list is at 5\n",
      "\n",
      "prisoners freed so far 3\n",
      "current index is: 6\n",
      "\n",
      "current list is: [0, 0, 1, 1, 1, 0, 1]\n",
      "\n",
      "first one in current list is at 6\n",
      "\n"
     ]
    },
    {
     "data": {
      "text/plain": [
       "4"
      ]
     },
     "execution_count": 9,
     "metadata": {},
     "output_type": "execute_result"
    }
   ],
   "source": [
    "freed_prisoners([1, 1, 0, 0, 0, 1, 0])"
   ]
  },
  {
   "cell_type": "markdown",
   "metadata": {},
   "source": [
    "## 8. Additional Resources\n",
    "\n",
    "* #### Automate the Boring Stuff with Python - https://automatetheboringstuff.com\n",
    "* #### Datacamp - https://www.datacamp.com/courses/intro-to-python-for-data-science\n",
    "* #### Learn Python - https://www.learnpython.org/"
   ]
  },
  {
   "cell_type": "code",
   "execution_count": 14,
   "metadata": {},
   "outputs": [],
   "source": [
    "hand = (['Th', 'Jh', \"Qh\", 'Ah', \"Kh\"])\n",
    "suits = [h[1] for h in hand]"
   ]
  },
  {
   "cell_type": "code",
   "execution_count": 15,
   "metadata": {},
   "outputs": [
    {
     "data": {
      "text/plain": [
       "1"
      ]
     },
     "execution_count": 15,
     "metadata": {},
     "output_type": "execute_result"
    }
   ],
   "source": [
    "len(set(suits))"
   ]
  },
  {
   "cell_type": "code",
   "execution_count": 16,
   "metadata": {},
   "outputs": [
    {
     "data": {
      "text/plain": [
       "['h', 'h', 'h', 'h', 'h']"
      ]
     },
     "execution_count": 16,
     "metadata": {},
     "output_type": "execute_result"
    }
   ],
   "source": [
    "suits"
   ]
  },
  {
   "cell_type": "code",
   "execution_count": null,
   "metadata": {},
   "outputs": [],
   "source": []
  }
 ],
 "metadata": {
  "celltoolbar": "Raw Cell Format",
  "kernelspec": {
   "display_name": "Python 3",
   "language": "python",
   "name": "python3"
  },
  "language_info": {
   "codemirror_mode": {
    "name": "ipython",
    "version": 3
   },
   "file_extension": ".py",
   "mimetype": "text/x-python",
   "name": "python",
   "nbconvert_exporter": "python",
   "pygments_lexer": "ipython3",
   "version": "3.8.3"
  }
 },
 "nbformat": 4,
 "nbformat_minor": 4
}
