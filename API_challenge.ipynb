{
 "cells": [
  {
   "cell_type": "markdown",
   "metadata": {},
   "source": [
    "## Visual Crossing API"
   ]
  },
  {
   "cell_type": "markdown",
   "metadata": {},
   "source": [
    "Now we are going to work with another API which is very useful in real-life applications\n",
    "\n",
    "> #### Instruction\n",
    "> Create a free account for the [**Visual Crossing API**](https://www.visualcrossing.com/weather-api).\n",
    "\n",
    "Once you are logged in you will see a home page similar to this:\n",
    "\n",
    "![](https://i.imgur.com/ZrHaGAB.png)\n",
    "\n",
    "Let's break this down:\n",
    "\n",
    "1. Your **secret** API key – make sure to keep it safe. It works as an authentification against their server.\n",
    "2. Your current pricing plan.\n",
    "\n",
    "> #### Warning\n",
    "> Once the trial period is over, we have only 250 free requests per day so make sure to use them wisely :)"
   ]
  },
  {
   "cell_type": "code",
   "execution_count": null,
   "metadata": {},
   "outputs": [],
   "source": []
  },
  {
   "cell_type": "markdown",
   "metadata": {},
   "source": [
    "> #### Instruction\n",
    "> Read through the [**Weather API Documentation**](https://www.visualcrossing.com/resources/documentation/weather-api/weather-api-documentation/)\n",
    "\n",
    "There are information about how to get weather predictions using HTTP requests.\n",
    "\n",
    "## Task \n",
    "Get the weather forecast for\n",
    "\n",
    "- Vancouver\n",
    "- Toronto\n",
    "- Montreal\n",
    "- Ottawa\n",
    "- Calgary\n",
    "\n",
    "Steps are very similar to those we have seen in the walkthrough earlier today. You have to find the correct URL format in the documentation above and send the request using `requests` library."
   ]
  },
  {
   "cell_type": "code",
   "execution_count": 31,
   "metadata": {},
   "outputs": [],
   "source": [
    "import requests \n",
    "import os"
   ]
  },
  {
   "cell_type": "code",
   "execution_count": 32,
   "metadata": {},
   "outputs": [],
   "source": [
    "secret_key = os.environ[\"VISUAL_CROSSING_API_KEY\"]"
   ]
  },
  {
   "cell_type": "code",
   "execution_count": 34,
   "metadata": {},
   "outputs": [],
   "source": [
    "location = \"Vancouver,Canada\""
   ]
  },
  {
   "cell_type": "code",
   "execution_count": 35,
   "metadata": {},
   "outputs": [],
   "source": [
    "url = f\"https://weather.visualcrossing.com/VisualCrossingWebServices/rest/services/weatherdata/forecast?aggregateHours=24&combinationMethod=aggregate&contentType=json&unitGroup=us&locationMode=single&key=\"+secret_key+\"&dataElements=default&locations=\"+location"
   ]
  },
  {
   "cell_type": "markdown",
   "metadata": {},
   "source": [
    "The output will be quite messy again but you will be able to find the forecast in there. We will be working with this API in the next week's project as well. We will be also parsing outputs then :). **Enjoy!!**"
   ]
  },
  {
   "cell_type": "code",
   "execution_count": 36,
   "metadata": {},
   "outputs": [],
   "source": [
    "response_1 = requests.get(url ,timeout=1)"
   ]
  },
  {
   "cell_type": "code",
   "execution_count": 29,
   "metadata": {},
   "outputs": [
    {
     "name": "stdout",
     "output_type": "stream",
     "text": [
      "{\"columns\":{\"temp\":{\"id\":\"temp\",\"name\":\"Temperature\",\"type\":2,\"unit\":\"degF\"},\"maxt\":{\"id\":\"maxt\",\"name\":\"Maximum Temperature\",\"type\":2,\"unit\":\"degF\"},\"visibility\":{\"id\":\"visibility\",\"name\":\"Visibility\",\"type\":2,\"unit\":\"mi\"},\"wspd\":{\"id\":\"wspd\",\"name\":\"Wind Speed\",\"type\":2,\"unit\":\"mph\"},\"heatindex\":{\"id\":\"heatindex\",\"name\":\"Heat Index\",\"type\":2,\"unit\":\"degF\"},\"cloudcover\":{\"id\":\"cloudcover\",\"name\":\"Cloud Cover\",\"type\":2,\"unit\":null},\"pop\":{\"id\":\"pop\",\"name\":\"Chance Precipitation (%)\",\"type\":2,\"unit\":null},\"mint\":{\"id\":\"mint\",\"name\":\"Minimum Temperature\",\"type\":2,\"unit\":\"degF\"},\"datetime\":{\"id\":\"datetime\",\"name\":\"Date time\",\"type\":3,\"unit\":null},\"precip\":{\"id\":\"precip\",\"name\":\"Precipitation\",\"type\":2,\"unit\":\"in\"},\"snowdepth\":{\"id\":\"snowdepth\",\"name\":\"Snow Depth\",\"type\":2,\"unit\":\"in\"},\"snow\":{\"id\":\"snow\",\"name\":\"Snow\",\"type\":2,\"unit\":\"in\"},\"name\":{\"id\":\"name\",\"name\":\"Name\",\"type\":1,\"unit\":null},\"humidity\":{\"id\":\"humidity\",\"name\":\"Relative Humidity\",\"type\":2,\"unit\":null},\"wgust\":{\"id\":\"wgust\",\"name\":\"Wind Gust\",\"type\":2,\"unit\":\"mph\"},\"conditions\":{\"id\":\"conditions\",\"name\":\"Conditions\",\"type\":1,\"unit\":null},\"windchill\":{\"id\":\"windchill\",\"name\":\"Wind Chill\",\"type\":2,\"unit\":\"degF\"}},\"remainingCost\":-1,\"queryCost\":1,\"location\":{\"stationContributions\":null,\"values\":[{\"temp\":69.4,\"maxt\":75.8,\"visibility\":15.0,\"wspd\":3.9,\"datetimeStr\":\"2020-09-11T00:00:00-07:00\",\"heatindex\":null,\"cloudcover\":0.2,\"pop\":0.0,\"mint\":60.7,\"datetime\":1599782400000,\"precip\":0.0,\"snowdepth\":0.0,\"snow\":0.0,\"humidity\":51.1,\"wgust\":8.5,\"conditions\":\"Clear\",\"windchill\":null},{\"temp\":64.3,\"maxt\":74.9,\"visibility\":15.0,\"wspd\":2.8,\"datetimeStr\":\"2020-09-12T00:00:00-07:00\",\"heatindex\":null,\"cloudcover\":5.5,\"pop\":0.0,\"mint\":56.0,\"datetime\":1599868800000,\"precip\":0.0,\"snowdepth\":0.0,\"snow\":0.0,\"humidity\":62.8,\"wgust\":5.8,\"conditions\":\"Clear\",\"windchill\":null},{\"temp\":62.2,\"maxt\":70.4,\"visibility\":15.0,\"wspd\":4.4,\"datetimeStr\":\"2020-09-13T00:00:00-07:00\",\"heatindex\":null,\"cloudcover\":96.3,\"pop\":0.0,\"mint\":54.8,\"datetime\":1599955200000,\"precip\":0.0,\"snowdepth\":0.0,\"snow\":0.0,\"humidity\":67.5,\"wgust\":16.6,\"conditions\":\"Overcast\",\"windchill\":null},{\"temp\":59.6,\"maxt\":67.0,\"visibility\":15.0,\"wspd\":4.0,\"datetimeStr\":\"2020-09-14T00:00:00-07:00\",\"heatindex\":null,\"cloudcover\":77.8,\"pop\":76.1,\"mint\":55.5,\"datetime\":1600041600000,\"precip\":0.0,\"snowdepth\":0.0,\"snow\":0.0,\"humidity\":73.6,\"wgust\":15.7,\"conditions\":\"Rain, Overcast\",\"windchill\":null},{\"temp\":64.2,\"maxt\":73.5,\"visibility\":14.2,\"wspd\":2.0,\"datetimeStr\":\"2020-09-15T00:00:00-07:00\",\"heatindex\":null,\"cloudcover\":90.6,\"pop\":90.5,\"mint\":58.9,\"datetime\":1600128000000,\"precip\":0.02,\"snowdepth\":0.0,\"snow\":0.0,\"humidity\":75.0,\"wgust\":4.3,\"conditions\":\"Rain, Overcast\",\"windchill\":null},{\"temp\":60.8,\"maxt\":64.7,\"visibility\":5.2,\"wspd\":1.9,\"datetimeStr\":\"2020-09-16T00:00:00-07:00\",\"heatindex\":null,\"cloudcover\":92.3,\"pop\":57.0,\"mint\":57.5,\"datetime\":1600214400000,\"precip\":0.44,\"snowdepth\":0.0,\"snow\":0.0,\"humidity\":89.6,\"wgust\":5.8,\"conditions\":\"Rain, Overcast\",\"windchill\":null},{\"temp\":58.5,\"maxt\":63.4,\"visibility\":5.8,\"wspd\":2.2,\"datetimeStr\":\"2020-09-17T00:00:00-07:00\",\"heatindex\":null,\"cloudcover\":80.0,\"pop\":28.6,\"mint\":55.5,\"datetime\":1600300800000,\"precip\":0.06,\"snowdepth\":0.0,\"snow\":0.0,\"humidity\":90.6,\"wgust\":4.7,\"conditions\":\"Overcast\",\"windchill\":null},{\"temp\":57.6,\"maxt\":65.2,\"visibility\":15.0,\"wspd\":4.4,\"datetimeStr\":\"2020-09-18T00:00:00-07:00\",\"heatindex\":null,\"cloudcover\":73.0,\"pop\":38.0,\"mint\":54.1,\"datetime\":1600387200000,\"precip\":0.01,\"snowdepth\":0.0,\"snow\":0.0,\"humidity\":83.9,\"wgust\":9.2,\"conditions\":\"Partially cloudy\",\"windchill\":null},{\"temp\":59.1,\"maxt\":68.1,\"visibility\":15.0,\"wspd\":2.6,\"datetimeStr\":\"2020-09-19T00:00:00-07:00\",\"heatindex\":null,\"cloudcover\":83.1,\"pop\":57.1,\"mint\":54.2,\"datetime\":1600473600000,\"precip\":0.03,\"snowdepth\":0.0,\"snow\":0.0,\"humidity\":82.7,\"wgust\":6.3,\"conditions\":\"Rain, Overcast\",\"windchill\":null},{\"temp\":55.6,\"maxt\":63.4,\"visibility\":6.0,\"wspd\":5.5,\"datetimeStr\":\"2020-09-20T00:00:00-07:00\",\"heatindex\":null,\"cloudcover\":63.0,\"pop\":52.3,\"mint\":49.9,\"datetime\":1600560000000,\"precip\":0.07,\"snowdepth\":0.0,\"snow\":0.0,\"humidity\":74.4,\"wgust\":17.7,\"conditions\":\"Rain, Partially cloudy\",\"windchill\":null},{\"temp\":53.3,\"maxt\":61.8,\"visibility\":15.0,\"wspd\":3.1,\"datetimeStr\":\"2020-09-21T00:00:00-07:00\",\"heatindex\":null,\"cloudcover\":19.8,\"pop\":47.5,\"mint\":45.8,\"datetime\":1600646400000,\"precip\":0.0,\"snowdepth\":0.0,\"snow\":0.0,\"humidity\":69.1,\"wgust\":5.4,\"conditions\":\"Clear\",\"windchill\":44.8},{\"temp\":56.6,\"maxt\":68.6,\"visibility\":15.0,\"wspd\":2.7,\"datetimeStr\":\"2020-09-22T00:00:00-07:00\",\"heatindex\":null,\"cloudcover\":11.9,\"pop\":19.0,\"mint\":47.4,\"datetime\":1600732800000,\"precip\":0.0,\"snowdepth\":0.0,\"snow\":0.0,\"humidity\":57.4,\"wgust\":5.1,\"conditions\":\"Clear\",\"windchill\":null},{\"temp\":56.8,\"maxt\":66.5,\"visibility\":15.0,\"wspd\":2.6,\"datetimeStr\":\"2020-09-23T00:00:00-07:00\",\"heatindex\":null,\"cloudcover\":26.4,\"pop\":14.2,\"mint\":49.2,\"datetime\":1600819200000,\"precip\":0.0,\"snowdepth\":0.0,\"snow\":0.0,\"humidity\":43.6,\"wgust\":3.4,\"conditions\":\"Partially cloudy\",\"windchill\":null},{\"temp\":57.5,\"maxt\":67.7,\"visibility\":15.0,\"wspd\":2.3,\"datetimeStr\":\"2020-09-24T00:00:00-07:00\",\"heatindex\":null,\"cloudcover\":61.9,\"pop\":19.0,\"mint\":49.7,\"datetime\":1600905600000,\"precip\":0.0,\"snowdepth\":0.0,\"snow\":0.0,\"humidity\":56.0,\"wgust\":2.9,\"conditions\":\"Partially cloudy\",\"windchill\":null},{\"temp\":null,\"maxt\":null,\"visibility\":null,\"wspd\":null,\"datetimeStr\":\"2020-09-25T00:00:00-07:00\",\"heatindex\":null,\"cloudcover\":null,\"pop\":23.8,\"mint\":null,\"datetime\":1600992000000,\"precip\":0.0,\"snowdepth\":null,\"snow\":null,\"humidity\":null,\"wgust\":null,\"conditions\":\"\",\"windchill\":null}],\"id\":\"Vancouver, Canada\",\"address\":\"Vancouver, Canada\",\"name\":\"Vancouver, Canada\",\"index\":0,\"latitude\":49.2604,\"longitude\":-123.113,\"distance\":0.0,\"time\":0.0,\"currentConditions\":{\"wdir\":99.0,\"temp\":67.9,\"sunrise\":\"2020-09-11T06:43:55-07:00\",\"visibility\":null,\"wspd\":6.9,\"icon\":\"clear-day\",\"stations\":\"\",\"heatindex\":null,\"cloudcover\":null,\"datetime\":\"2020-09-11T10:31:24-07:00\",\"precip\":0.0,\"moonphase\":0.81,\"snowdepth\":null,\"sealevelpressure\":null,\"dew\":53.1,\"sunset\":\"2020-09-11T19:32:47-07:00\",\"humidity\":59.2,\"wgust\":19.0,\"windchill\":null},\"alerts\":null}}\n"
     ]
    }
   ],
   "source": [
    "print(response_1.text)"
   ]
  },
  {
   "cell_type": "code",
   "execution_count": 22,
   "metadata": {},
   "outputs": [
    {
     "data": {
      "text/plain": [
       "200"
      ]
     },
     "execution_count": 22,
     "metadata": {},
     "output_type": "execute_result"
    }
   ],
   "source": [
    "response_1.status_code\n"
   ]
  },
  {
   "cell_type": "code",
   "execution_count": 39,
   "metadata": {},
   "outputs": [
    {
     "data": {
      "text/plain": [
       "b'{\"columns\":{\"temp\":{\"id\":\"temp\",\"name\":\"Temperature\",\"type\":2,\"unit\":\"degF\"},\"maxt\":{\"id\":\"maxt\",\"name\":\"Maximum Temperature\",\"type\":2,\"unit\":\"degF\"},\"visibility\":{\"id\":\"visibility\",\"name\":\"Visibility\",\"type\":2,\"unit\":\"mi\"},\"wspd\":{\"id\":\"wspd\",\"name\":\"Wind Speed\",\"type\":2,\"unit\":\"mph\"},\"heatindex\":{\"id\":\"heatindex\",\"name\":\"Heat Index\",\"type\":2,\"unit\":\"degF\"},\"cloudcover\":{\"id\":\"cloudcover\",\"name\":\"Cloud Cover\",\"type\":2,\"unit\":null},\"pop\":{\"id\":\"pop\",\"name\":\"Chance Precipitation (%)\",\"type\":2,\"unit\":null},\"mint\":{\"id\":\"mint\",\"name\":\"Minimum Temperature\",\"type\":2,\"unit\":\"degF\"},\"datetime\":{\"id\":\"datetime\",\"name\":\"Date time\",\"type\":3,\"unit\":null},\"precip\":{\"id\":\"precip\",\"name\":\"Precipitation\",\"type\":2,\"unit\":\"in\"},\"snowdepth\":{\"id\":\"snowdepth\",\"name\":\"Snow Depth\",\"type\":2,\"unit\":\"in\"},\"snow\":{\"id\":\"snow\",\"name\":\"Snow\",\"type\":2,\"unit\":\"in\"},\"name\":{\"id\":\"name\",\"name\":\"Name\",\"type\":1,\"unit\":null},\"humidity\":{\"id\":\"humidity\",\"name\":\"Relative Humidity\",\"type\":2,\"unit\":null},\"wgust\":{\"id\":\"wgust\",\"name\":\"Wind Gust\",\"type\":2,\"unit\":\"mph\"},\"conditions\":{\"id\":\"conditions\",\"name\":\"Conditions\",\"type\":1,\"unit\":null},\"windchill\":{\"id\":\"windchill\",\"name\":\"Wind Chill\",\"type\":2,\"unit\":\"degF\"}},\"remainingCost\":-1,\"queryCost\":1,\"location\":{\"stationContributions\":null,\"values\":[{\"temp\":69.4,\"maxt\":75.8,\"visibility\":15.0,\"wspd\":3.9,\"datetimeStr\":\"2020-09-11T00:00:00-07:00\",\"heatindex\":null,\"cloudcover\":0.2,\"pop\":0.0,\"mint\":60.7,\"datetime\":1599782400000,\"precip\":0.0,\"snowdepth\":0.0,\"snow\":0.0,\"humidity\":51.1,\"wgust\":8.5,\"conditions\":\"Clear\",\"windchill\":null},{\"temp\":64.3,\"maxt\":74.9,\"visibility\":15.0,\"wspd\":2.8,\"datetimeStr\":\"2020-09-12T00:00:00-07:00\",\"heatindex\":null,\"cloudcover\":5.5,\"pop\":0.0,\"mint\":56.0,\"datetime\":1599868800000,\"precip\":0.0,\"snowdepth\":0.0,\"snow\":0.0,\"humidity\":62.8,\"wgust\":5.8,\"conditions\":\"Clear\",\"windchill\":null},{\"temp\":62.2,\"maxt\":70.4,\"visibility\":15.0,\"wspd\":4.4,\"datetimeStr\":\"2020-09-13T00:00:00-07:00\",\"heatindex\":null,\"cloudcover\":96.3,\"pop\":0.0,\"mint\":54.8,\"datetime\":1599955200000,\"precip\":0.0,\"snowdepth\":0.0,\"snow\":0.0,\"humidity\":67.5,\"wgust\":16.6,\"conditions\":\"Overcast\",\"windchill\":null},{\"temp\":59.6,\"maxt\":67.0,\"visibility\":15.0,\"wspd\":4.0,\"datetimeStr\":\"2020-09-14T00:00:00-07:00\",\"heatindex\":null,\"cloudcover\":77.8,\"pop\":76.1,\"mint\":55.5,\"datetime\":1600041600000,\"precip\":0.0,\"snowdepth\":0.0,\"snow\":0.0,\"humidity\":73.6,\"wgust\":15.7,\"conditions\":\"Rain, Overcast\",\"windchill\":null},{\"temp\":64.2,\"maxt\":73.5,\"visibility\":14.2,\"wspd\":2.0,\"datetimeStr\":\"2020-09-15T00:00:00-07:00\",\"heatindex\":null,\"cloudcover\":90.6,\"pop\":90.5,\"mint\":58.9,\"datetime\":1600128000000,\"precip\":0.02,\"snowdepth\":0.0,\"snow\":0.0,\"humidity\":75.0,\"wgust\":4.3,\"conditions\":\"Rain, Overcast\",\"windchill\":null},{\"temp\":60.8,\"maxt\":64.7,\"visibility\":5.2,\"wspd\":1.9,\"datetimeStr\":\"2020-09-16T00:00:00-07:00\",\"heatindex\":null,\"cloudcover\":92.3,\"pop\":57.0,\"mint\":57.5,\"datetime\":1600214400000,\"precip\":0.44,\"snowdepth\":0.0,\"snow\":0.0,\"humidity\":89.6,\"wgust\":5.8,\"conditions\":\"Rain, Overcast\",\"windchill\":null},{\"temp\":58.5,\"maxt\":63.4,\"visibility\":5.8,\"wspd\":2.2,\"datetimeStr\":\"2020-09-17T00:00:00-07:00\",\"heatindex\":null,\"cloudcover\":80.0,\"pop\":28.6,\"mint\":55.5,\"datetime\":1600300800000,\"precip\":0.06,\"snowdepth\":0.0,\"snow\":0.0,\"humidity\":90.6,\"wgust\":4.7,\"conditions\":\"Overcast\",\"windchill\":null},{\"temp\":57.6,\"maxt\":65.2,\"visibility\":15.0,\"wspd\":4.4,\"datetimeStr\":\"2020-09-18T00:00:00-07:00\",\"heatindex\":null,\"cloudcover\":73.0,\"pop\":38.0,\"mint\":54.1,\"datetime\":1600387200000,\"precip\":0.01,\"snowdepth\":0.0,\"snow\":0.0,\"humidity\":83.9,\"wgust\":9.2,\"conditions\":\"Partially cloudy\",\"windchill\":null},{\"temp\":59.1,\"maxt\":68.1,\"visibility\":15.0,\"wspd\":2.6,\"datetimeStr\":\"2020-09-19T00:00:00-07:00\",\"heatindex\":null,\"cloudcover\":83.1,\"pop\":57.1,\"mint\":54.2,\"datetime\":1600473600000,\"precip\":0.03,\"snowdepth\":0.0,\"snow\":0.0,\"humidity\":82.7,\"wgust\":6.3,\"conditions\":\"Rain, Overcast\",\"windchill\":null},{\"temp\":55.6,\"maxt\":63.4,\"visibility\":6.0,\"wspd\":5.5,\"datetimeStr\":\"2020-09-20T00:00:00-07:00\",\"heatindex\":null,\"cloudcover\":63.0,\"pop\":52.3,\"mint\":49.9,\"datetime\":1600560000000,\"precip\":0.07,\"snowdepth\":0.0,\"snow\":0.0,\"humidity\":74.4,\"wgust\":17.7,\"conditions\":\"Rain, Partially cloudy\",\"windchill\":null},{\"temp\":53.3,\"maxt\":61.8,\"visibility\":15.0,\"wspd\":3.1,\"datetimeStr\":\"2020-09-21T00:00:00-07:00\",\"heatindex\":null,\"cloudcover\":19.8,\"pop\":47.5,\"mint\":45.8,\"datetime\":1600646400000,\"precip\":0.0,\"snowdepth\":0.0,\"snow\":0.0,\"humidity\":69.1,\"wgust\":5.4,\"conditions\":\"Clear\",\"windchill\":44.8},{\"temp\":56.6,\"maxt\":68.6,\"visibility\":15.0,\"wspd\":2.7,\"datetimeStr\":\"2020-09-22T00:00:00-07:00\",\"heatindex\":null,\"cloudcover\":11.9,\"pop\":19.0,\"mint\":47.4,\"datetime\":1600732800000,\"precip\":0.0,\"snowdepth\":0.0,\"snow\":0.0,\"humidity\":57.4,\"wgust\":5.1,\"conditions\":\"Clear\",\"windchill\":null},{\"temp\":56.8,\"maxt\":66.5,\"visibility\":15.0,\"wspd\":2.6,\"datetimeStr\":\"2020-09-23T00:00:00-07:00\",\"heatindex\":null,\"cloudcover\":26.4,\"pop\":14.2,\"mint\":49.2,\"datetime\":1600819200000,\"precip\":0.0,\"snowdepth\":0.0,\"snow\":0.0,\"humidity\":43.6,\"wgust\":3.4,\"conditions\":\"Partially cloudy\",\"windchill\":null},{\"temp\":57.5,\"maxt\":67.7,\"visibility\":15.0,\"wspd\":2.3,\"datetimeStr\":\"2020-09-24T00:00:00-07:00\",\"heatindex\":null,\"cloudcover\":61.9,\"pop\":19.0,\"mint\":49.7,\"datetime\":1600905600000,\"precip\":0.0,\"snowdepth\":0.0,\"snow\":0.0,\"humidity\":56.0,\"wgust\":2.9,\"conditions\":\"Partially cloudy\",\"windchill\":null},{\"temp\":null,\"maxt\":null,\"visibility\":null,\"wspd\":null,\"datetimeStr\":\"2020-09-25T00:00:00-07:00\",\"heatindex\":null,\"cloudcover\":null,\"pop\":23.8,\"mint\":null,\"datetime\":1600992000000,\"precip\":0.0,\"snowdepth\":null,\"snow\":null,\"humidity\":null,\"wgust\":null,\"conditions\":\"\",\"windchill\":null}],\"id\":\"Vancouver,Canada\",\"address\":\"Vancouver, BC, Canada\",\"name\":\"Vancouver,Canada\",\"index\":0,\"latitude\":49.2604,\"longitude\":-123.113,\"distance\":0.0,\"time\":0.0,\"currentConditions\":{\"wdir\":113.0,\"temp\":69.0,\"sunrise\":\"2020-09-11T06:43:55-07:00\",\"visibility\":null,\"wspd\":4.9,\"icon\":\"clear-day\",\"stations\":\"\",\"heatindex\":null,\"cloudcover\":null,\"datetime\":\"2020-09-11T11:01:24-07:00\",\"precip\":0.0,\"moonphase\":0.81,\"snowdepth\":null,\"sealevelpressure\":null,\"dew\":53.5,\"sunset\":\"2020-09-11T19:32:47-07:00\",\"humidity\":57.8,\"wgust\":13.0,\"windchill\":null},\"alerts\":null}}'"
      ]
     },
     "execution_count": 39,
     "metadata": {},
     "output_type": "execute_result"
    }
   ],
   "source": [
    "response_1.content"
   ]
  },
  {
   "cell_type": "code",
   "execution_count": 41,
   "metadata": {},
   "outputs": [
    {
     "data": {
      "text/plain": [
       "'clear-day'"
      ]
     },
     "execution_count": 41,
     "metadata": {},
     "output_type": "execute_result"
    }
   ],
   "source": [
    "import requests as re\n",
    "re.get(url).json()['location']['currentConditions']['icon']"
   ]
  },
  {
   "cell_type": "code",
   "execution_count": 6,
   "metadata": {},
   "outputs": [],
   "source": [
    "import requests \n",
    "import os"
   ]
  },
  {
   "cell_type": "code",
   "execution_count": 7,
   "metadata": {},
   "outputs": [],
   "source": [
    "secret_key = os.environ[\"VISUAL_CROSSING_API_KEY\"]"
   ]
  },
  {
   "cell_type": "code",
   "execution_count": 8,
   "metadata": {},
   "outputs": [],
   "source": [
    "location = \"Toronto,Canada\""
   ]
  },
  {
   "cell_type": "code",
   "execution_count": 9,
   "metadata": {},
   "outputs": [],
   "source": [
    "url = f\"https://weather.visualcrossing.com/VisualCrossingWebServices/rest/services/weatherdata/forecast?aggregateHours=24&combinationMethod=aggregate&contentType=json&unitGroup=us&locationMode=single&key=\"+secret_key+\"&dataElements=default&locations=\"+location"
   ]
  },
  {
   "cell_type": "code",
   "execution_count": 10,
   "metadata": {},
   "outputs": [],
   "source": [
    "response_2 = requests.get(url ,timeout=1)"
   ]
  },
  {
   "cell_type": "code",
   "execution_count": 11,
   "metadata": {},
   "outputs": [
    {
     "name": "stdout",
     "output_type": "stream",
     "text": [
      "{\"columns\":{\"temp\":{\"id\":\"temp\",\"name\":\"Temperature\",\"type\":2,\"unit\":\"degF\"},\"maxt\":{\"id\":\"maxt\",\"name\":\"Maximum Temperature\",\"type\":2,\"unit\":\"degF\"},\"visibility\":{\"id\":\"visibility\",\"name\":\"Visibility\",\"type\":2,\"unit\":\"mi\"},\"wspd\":{\"id\":\"wspd\",\"name\":\"Wind Speed\",\"type\":2,\"unit\":\"mph\"},\"heatindex\":{\"id\":\"heatindex\",\"name\":\"Heat Index\",\"type\":2,\"unit\":\"degF\"},\"cloudcover\":{\"id\":\"cloudcover\",\"name\":\"Cloud Cover\",\"type\":2,\"unit\":null},\"pop\":{\"id\":\"pop\",\"name\":\"Chance Precipitation (%)\",\"type\":2,\"unit\":null},\"mint\":{\"id\":\"mint\",\"name\":\"Minimum Temperature\",\"type\":2,\"unit\":\"degF\"},\"datetime\":{\"id\":\"datetime\",\"name\":\"Date time\",\"type\":3,\"unit\":null},\"precip\":{\"id\":\"precip\",\"name\":\"Precipitation\",\"type\":2,\"unit\":\"in\"},\"snowdepth\":{\"id\":\"snowdepth\",\"name\":\"Snow Depth\",\"type\":2,\"unit\":\"in\"},\"snow\":{\"id\":\"snow\",\"name\":\"Snow\",\"type\":2,\"unit\":\"in\"},\"name\":{\"id\":\"name\",\"name\":\"Name\",\"type\":1,\"unit\":null},\"humidity\":{\"id\":\"humidity\",\"name\":\"Relative Humidity\",\"type\":2,\"unit\":null},\"wgust\":{\"id\":\"wgust\",\"name\":\"Wind Gust\",\"type\":2,\"unit\":\"mph\"},\"conditions\":{\"id\":\"conditions\",\"name\":\"Conditions\",\"type\":1,\"unit\":null},\"windchill\":{\"id\":\"windchill\",\"name\":\"Wind Chill\",\"type\":2,\"unit\":\"degF\"}},\"remainingCost\":-1,\"queryCost\":1,\"location\":{\"stationContributions\":null,\"values\":[{\"temp\":66.4,\"maxt\":71.0,\"visibility\":15.0,\"wspd\":1.9,\"datetimeStr\":\"2020-09-11T00:00:00-04:00\",\"heatindex\":null,\"cloudcover\":0.0,\"pop\":0.0,\"mint\":61.1,\"datetime\":1599782400000,\"precip\":0.0,\"snowdepth\":0.0,\"snow\":0.0,\"humidity\":44.0,\"wgust\":5.6,\"conditions\":\"Clear\",\"windchill\":null},{\"temp\":63.6,\"maxt\":69.0,\"visibility\":8.0,\"wspd\":6.7,\"datetimeStr\":\"2020-09-12T00:00:00-04:00\",\"heatindex\":null,\"cloudcover\":67.4,\"pop\":4.7,\"mint\":57.6,\"datetime\":1599868800000,\"precip\":0.18,\"snowdepth\":0.0,\"snow\":0.0,\"humidity\":63.5,\"wgust\":30.0,\"conditions\":\"Partially cloudy\",\"windchill\":null},{\"temp\":69.9,\"maxt\":78.0,\"visibility\":3.2,\"wspd\":10.7,\"datetimeStr\":\"2020-09-13T00:00:00-04:00\",\"heatindex\":null,\"cloudcover\":58.5,\"pop\":100.0,\"mint\":61.4,\"datetime\":1599955200000,\"precip\":0.37,\"snowdepth\":0.0,\"snow\":0.0,\"humidity\":73.0,\"wgust\":27.3,\"conditions\":\"Rain, Partially cloudy\",\"windchill\":null},{\"temp\":57.4,\"maxt\":63.1,\"visibility\":15.0,\"wspd\":9.2,\"datetimeStr\":\"2020-09-14T00:00:00-04:00\",\"heatindex\":null,\"cloudcover\":3.6,\"pop\":0.0,\"mint\":52.6,\"datetime\":1600041600000,\"precip\":0.0,\"snowdepth\":0.0,\"snow\":0.0,\"humidity\":60.2,\"wgust\":24.8,\"conditions\":\"Clear\",\"windchill\":null},{\"temp\":59.5,\"maxt\":69.0,\"visibility\":15.0,\"wspd\":5.1,\"datetimeStr\":\"2020-09-15T00:00:00-04:00\",\"heatindex\":null,\"cloudcover\":28.5,\"pop\":0.0,\"mint\":51.0,\"datetime\":1600128000000,\"precip\":0.0,\"snowdepth\":0.0,\"snow\":0.0,\"humidity\":48.6,\"wgust\":19.9,\"conditions\":\"Partially cloudy\",\"windchill\":null},{\"temp\":63.8,\"maxt\":68.6,\"visibility\":5.7,\"wspd\":6.0,\"datetimeStr\":\"2020-09-16T00:00:00-04:00\",\"heatindex\":null,\"cloudcover\":92.8,\"pop\":4.8,\"mint\":60.3,\"datetime\":1600214400000,\"precip\":0.43,\"snowdepth\":0.0,\"snow\":0.0,\"humidity\":67.5,\"wgust\":25.7,\"conditions\":\"Overcast\",\"windchill\":null},{\"temp\":64.2,\"maxt\":69.9,\"visibility\":15.0,\"wspd\":7.0,\"datetimeStr\":\"2020-09-17T00:00:00-04:00\",\"heatindex\":null,\"cloudcover\":19.9,\"pop\":42.9,\"mint\":59.3,\"datetime\":1600300800000,\"precip\":0.0,\"snowdepth\":0.0,\"snow\":0.0,\"humidity\":64.8,\"wgust\":18.6,\"conditions\":\"Clear\",\"windchill\":null},{\"temp\":65.3,\"maxt\":74.4,\"visibility\":15.0,\"wspd\":4.1,\"datetimeStr\":\"2020-09-18T00:00:00-04:00\",\"heatindex\":null,\"cloudcover\":34.8,\"pop\":42.9,\"mint\":57.5,\"datetime\":1600387200000,\"precip\":0.0,\"snowdepth\":0.0,\"snow\":0.0,\"humidity\":57.7,\"wgust\":13.0,\"conditions\":\"Partially cloudy\",\"windchill\":null},{\"temp\":64.5,\"maxt\":67.7,\"visibility\":3.9,\"wspd\":4.6,\"datetimeStr\":\"2020-09-19T00:00:00-04:00\",\"heatindex\":null,\"cloudcover\":84.3,\"pop\":23.7,\"mint\":63.1,\"datetime\":1600473600000,\"precip\":0.6,\"snowdepth\":0.0,\"snow\":0.0,\"humidity\":80.4,\"wgust\":19.0,\"conditions\":\"Overcast\",\"windchill\":null},{\"temp\":64.1,\"maxt\":67.4,\"visibility\":14.7,\"wspd\":2.3,\"datetimeStr\":\"2020-09-20T00:00:00-04:00\",\"heatindex\":null,\"cloudcover\":74.9,\"pop\":19.0,\"mint\":60.7,\"datetime\":1600560000000,\"precip\":0.06,\"snowdepth\":0.0,\"snow\":0.0,\"humidity\":83.9,\"wgust\":5.4,\"conditions\":\"Partially cloudy\",\"windchill\":null},{\"temp\":69.8,\"maxt\":77.6,\"visibility\":15.0,\"wspd\":4.9,\"datetimeStr\":\"2020-09-21T00:00:00-04:00\",\"heatindex\":null,\"cloudcover\":42.3,\"pop\":14.3,\"mint\":64.3,\"datetime\":1600646400000,\"precip\":0.03,\"snowdepth\":0.0,\"snow\":0.0,\"humidity\":71.7,\"wgust\":13.0,\"conditions\":\"Partially cloudy\",\"windchill\":null},{\"temp\":68.9,\"maxt\":74.6,\"visibility\":15.0,\"wspd\":6.5,\"datetimeStr\":\"2020-09-22T00:00:00-04:00\",\"heatindex\":null,\"cloudcover\":4.0,\"pop\":33.3,\"mint\":63.6,\"datetime\":1600732800000,\"precip\":0.0,\"snowdepth\":0.0,\"snow\":0.0,\"humidity\":71.4,\"wgust\":21.3,\"conditions\":\"Clear\",\"windchill\":null},{\"temp\":69.9,\"maxt\":81.8,\"visibility\":12.3,\"wspd\":9.4,\"datetimeStr\":\"2020-09-23T00:00:00-04:00\",\"heatindex\":82.9,\"cloudcover\":42.8,\"pop\":33.2,\"mint\":56.4,\"datetime\":1600819200000,\"precip\":0.17,\"snowdepth\":0.0,\"snow\":0.0,\"humidity\":72.5,\"wgust\":26.8,\"conditions\":\"Partially cloudy\",\"windchill\":null},{\"temp\":50.9,\"maxt\":54.2,\"visibility\":15.0,\"wspd\":11.7,\"datetimeStr\":\"2020-09-24T00:00:00-04:00\",\"heatindex\":null,\"cloudcover\":52.8,\"pop\":33.3,\"mint\":48.1,\"datetime\":1600905600000,\"precip\":0.0,\"snowdepth\":0.0,\"snow\":0.0,\"humidity\":55.8,\"wgust\":23.9,\"conditions\":\"Partially cloudy\",\"windchill\":42.9},{\"temp\":null,\"maxt\":null,\"visibility\":null,\"wspd\":null,\"datetimeStr\":\"2020-09-25T00:00:00-04:00\",\"heatindex\":null,\"cloudcover\":null,\"pop\":33.3,\"mint\":null,\"datetime\":1600992000000,\"precip\":0.0,\"snowdepth\":null,\"snow\":null,\"humidity\":null,\"wgust\":null,\"conditions\":\"\",\"windchill\":null}],\"id\":\"Toronto,Canada\",\"address\":\"Toronto,Canada\",\"name\":\"Toronto,Canada\",\"index\":0,\"latitude\":43.6487,\"longitude\":-79.3855,\"distance\":0.0,\"time\":0.0,\"currentConditions\":{\"wdir\":123.0,\"temp\":60.0,\"sunrise\":\"2020-09-11T06:52:55-04:00\",\"visibility\":null,\"wspd\":2.9,\"icon\":\"clear-day\",\"stations\":\"\",\"heatindex\":null,\"cloudcover\":null,\"datetime\":\"2020-09-11T14:25:11-04:00\",\"precip\":0.0,\"moonphase\":0.82,\"snowdepth\":null,\"sealevelpressure\":null,\"dew\":49.0,\"sunset\":\"2020-09-11T19:34:14-04:00\",\"humidity\":67.0,\"wgust\":6.9,\"windchill\":null},\"alerts\":null}}\n"
     ]
    }
   ],
   "source": [
    "print(response_2.text)"
   ]
  },
  {
   "cell_type": "code",
   "execution_count": 15,
   "metadata": {},
   "outputs": [],
   "source": [
    "location = \"Montreal,Canada\""
   ]
  },
  {
   "cell_type": "code",
   "execution_count": 16,
   "metadata": {},
   "outputs": [],
   "source": [
    "url = f\"https://weather.visualcrossing.com/VisualCrossingWebServices/rest/services/weatherdata/forecast?aggregateHours=24&combinationMethod=aggregate&contentType=json&unitGroup=us&locationMode=single&key=\"+secret_key+\"&dataElements=default&locations=\"+location"
   ]
  },
  {
   "cell_type": "code",
   "execution_count": 30,
   "metadata": {},
   "outputs": [],
   "source": [
    "response_3 = requests.get(url ,timeout=1)"
   ]
  },
  {
   "cell_type": "code",
   "execution_count": 18,
   "metadata": {},
   "outputs": [
    {
     "name": "stdout",
     "output_type": "stream",
     "text": [
      "{\"columns\":{\"temp\":{\"id\":\"temp\",\"name\":\"Temperature\",\"type\":2,\"unit\":\"degF\"},\"maxt\":{\"id\":\"maxt\",\"name\":\"Maximum Temperature\",\"type\":2,\"unit\":\"degF\"},\"visibility\":{\"id\":\"visibility\",\"name\":\"Visibility\",\"type\":2,\"unit\":\"mi\"},\"wspd\":{\"id\":\"wspd\",\"name\":\"Wind Speed\",\"type\":2,\"unit\":\"mph\"},\"heatindex\":{\"id\":\"heatindex\",\"name\":\"Heat Index\",\"type\":2,\"unit\":\"degF\"},\"cloudcover\":{\"id\":\"cloudcover\",\"name\":\"Cloud Cover\",\"type\":2,\"unit\":null},\"pop\":{\"id\":\"pop\",\"name\":\"Chance Precipitation (%)\",\"type\":2,\"unit\":null},\"mint\":{\"id\":\"mint\",\"name\":\"Minimum Temperature\",\"type\":2,\"unit\":\"degF\"},\"datetime\":{\"id\":\"datetime\",\"name\":\"Date time\",\"type\":3,\"unit\":null},\"precip\":{\"id\":\"precip\",\"name\":\"Precipitation\",\"type\":2,\"unit\":\"in\"},\"snowdepth\":{\"id\":\"snowdepth\",\"name\":\"Snow Depth\",\"type\":2,\"unit\":\"in\"},\"snow\":{\"id\":\"snow\",\"name\":\"Snow\",\"type\":2,\"unit\":\"in\"},\"name\":{\"id\":\"name\",\"name\":\"Name\",\"type\":1,\"unit\":null},\"humidity\":{\"id\":\"humidity\",\"name\":\"Relative Humidity\",\"type\":2,\"unit\":null},\"wgust\":{\"id\":\"wgust\",\"name\":\"Wind Gust\",\"type\":2,\"unit\":\"mph\"},\"conditions\":{\"id\":\"conditions\",\"name\":\"Conditions\",\"type\":1,\"unit\":null},\"windchill\":{\"id\":\"windchill\",\"name\":\"Wind Chill\",\"type\":2,\"unit\":\"degF\"}},\"remainingCost\":-1,\"queryCost\":1,\"location\":{\"stationContributions\":null,\"values\":[{\"temp\":63.4,\"maxt\":68.1,\"visibility\":15.0,\"wspd\":5.3,\"datetimeStr\":\"2020-09-11T00:00:00-04:00\",\"heatindex\":null,\"cloudcover\":0.0,\"pop\":0.0,\"mint\":58.7,\"datetime\":1599782400000,\"precip\":0.0,\"snowdepth\":0.0,\"snow\":0.0,\"humidity\":49.4,\"wgust\":12.5,\"conditions\":\"Clear\",\"windchill\":null},{\"temp\":61.5,\"maxt\":69.9,\"visibility\":15.0,\"wspd\":5.5,\"datetimeStr\":\"2020-09-12T00:00:00-04:00\",\"heatindex\":null,\"cloudcover\":45.2,\"pop\":0.0,\"mint\":52.1,\"datetime\":1599868800000,\"precip\":0.0,\"snowdepth\":0.0,\"snow\":0.0,\"humidity\":58.7,\"wgust\":21.9,\"conditions\":\"Partially cloudy\",\"windchill\":null},{\"temp\":61.1,\"maxt\":63.8,\"visibility\":2.2,\"wspd\":12.2,\"datetimeStr\":\"2020-09-13T00:00:00-04:00\",\"heatindex\":null,\"cloudcover\":96.3,\"pop\":100.0,\"mint\":57.5,\"datetime\":1599955200000,\"precip\":0.47,\"snowdepth\":0.0,\"snow\":0.0,\"humidity\":77.8,\"wgust\":30.6,\"conditions\":\"Rain, Overcast\",\"windchill\":null},{\"temp\":56.0,\"maxt\":62.3,\"visibility\":15.0,\"wspd\":8.1,\"datetimeStr\":\"2020-09-14T00:00:00-04:00\",\"heatindex\":null,\"cloudcover\":19.4,\"pop\":28.6,\"mint\":49.9,\"datetime\":1600041600000,\"precip\":0.0,\"snowdepth\":0.0,\"snow\":0.0,\"humidity\":59.8,\"wgust\":25.1,\"conditions\":\"Clear\",\"windchill\":46.4},{\"temp\":55.5,\"maxt\":62.3,\"visibility\":15.0,\"wspd\":5.6,\"datetimeStr\":\"2020-09-15T00:00:00-04:00\",\"heatindex\":null,\"cloudcover\":24.9,\"pop\":0.0,\"mint\":47.4,\"datetime\":1600128000000,\"precip\":0.0,\"snowdepth\":0.0,\"snow\":0.0,\"humidity\":52.3,\"wgust\":11.6,\"conditions\":\"Clear\",\"windchill\":45.5},{\"temp\":56.8,\"maxt\":59.4,\"visibility\":3.9,\"wspd\":4.0,\"datetimeStr\":\"2020-09-16T00:00:00-04:00\",\"heatindex\":null,\"cloudcover\":99.6,\"pop\":9.5,\"mint\":55.5,\"datetime\":1600214400000,\"precip\":0.31,\"snowdepth\":0.0,\"snow\":0.0,\"humidity\":76.3,\"wgust\":19.7,\"conditions\":\"Overcast\",\"windchill\":null},{\"temp\":62.0,\"maxt\":69.0,\"visibility\":12.6,\"wspd\":3.7,\"datetimeStr\":\"2020-09-17T00:00:00-04:00\",\"heatindex\":null,\"cloudcover\":74.6,\"pop\":42.9,\"mint\":58.2,\"datetime\":1600300800000,\"precip\":0.07,\"snowdepth\":0.0,\"snow\":0.0,\"humidity\":76.9,\"wgust\":13.2,\"conditions\":\"Partially cloudy\",\"windchill\":null},{\"temp\":60.1,\"maxt\":69.5,\"visibility\":15.0,\"wspd\":5.3,\"datetimeStr\":\"2020-09-18T00:00:00-04:00\",\"heatindex\":null,\"cloudcover\":2.9,\"pop\":42.9,\"mint\":51.2,\"datetime\":1600387200000,\"precip\":0.0,\"snowdepth\":0.0,\"snow\":0.0,\"humidity\":62.5,\"wgust\":14.5,\"conditions\":\"Clear\",\"windchill\":null},{\"temp\":64.7,\"maxt\":71.7,\"visibility\":15.0,\"wspd\":5.1,\"datetimeStr\":\"2020-09-19T00:00:00-04:00\",\"heatindex\":null,\"cloudcover\":91.8,\"pop\":14.3,\"mint\":57.6,\"datetime\":1600473600000,\"precip\":0.0,\"snowdepth\":0.0,\"snow\":0.0,\"humidity\":69.2,\"wgust\":13.6,\"conditions\":\"Overcast\",\"windchill\":null},{\"temp\":65.4,\"maxt\":69.9,\"visibility\":8.3,\"wspd\":7.0,\"datetimeStr\":\"2020-09-20T00:00:00-04:00\",\"heatindex\":null,\"cloudcover\":98.8,\"pop\":23.8,\"mint\":60.5,\"datetime\":1600560000000,\"precip\":0.14,\"snowdepth\":0.0,\"snow\":0.0,\"humidity\":86.5,\"wgust\":23.9,\"conditions\":\"Overcast\",\"windchill\":null},{\"temp\":70.1,\"maxt\":76.4,\"visibility\":4.7,\"wspd\":5.0,\"datetimeStr\":\"2020-09-21T00:00:00-04:00\",\"heatindex\":null,\"cloudcover\":59.8,\"pop\":23.8,\"mint\":65.9,\"datetime\":1600646400000,\"precip\":0.32,\"snowdepth\":0.0,\"snow\":0.0,\"humidity\":79.5,\"wgust\":16.8,\"conditions\":\"Partially cloudy\",\"windchill\":null},{\"temp\":67.1,\"maxt\":74.0,\"visibility\":15.0,\"wspd\":5.5,\"datetimeStr\":\"2020-09-22T00:00:00-04:00\",\"heatindex\":null,\"cloudcover\":18.1,\"pop\":28.5,\"mint\":60.9,\"datetime\":1600732800000,\"precip\":0.0,\"snowdepth\":0.0,\"snow\":0.0,\"humidity\":72.6,\"wgust\":13.9,\"conditions\":\"Clear\",\"windchill\":null},{\"temp\":69.2,\"maxt\":75.8,\"visibility\":7.8,\"wspd\":14.3,\"datetimeStr\":\"2020-09-23T00:00:00-04:00\",\"heatindex\":null,\"cloudcover\":43.9,\"pop\":33.3,\"mint\":63.6,\"datetime\":1600819200000,\"precip\":0.27,\"snowdepth\":0.0,\"snow\":0.0,\"humidity\":77.3,\"wgust\":40.3,\"conditions\":\"Partially cloudy\",\"windchill\":null},{\"temp\":56.3,\"maxt\":69.9,\"visibility\":1.2,\"wspd\":11.5,\"datetimeStr\":\"2020-09-24T00:00:00-04:00\",\"heatindex\":null,\"cloudcover\":100.0,\"pop\":33.3,\"mint\":51.0,\"datetime\":1600905600000,\"precip\":1.14,\"snowdepth\":0.0,\"snow\":0.0,\"humidity\":67.2,\"wgust\":30.0,\"conditions\":\"Overcast\",\"windchill\":null},{\"temp\":null,\"maxt\":null,\"visibility\":null,\"wspd\":null,\"datetimeStr\":\"2020-09-25T00:00:00-04:00\",\"heatindex\":null,\"cloudcover\":null,\"pop\":23.8,\"mint\":null,\"datetime\":1600992000000,\"precip\":0.0,\"snowdepth\":null,\"snow\":null,\"humidity\":null,\"wgust\":null,\"conditions\":\"\",\"windchill\":null}],\"id\":\"Montreal,Canada\",\"address\":\"montreal,canada\",\"name\":\"Montreal,Canada\",\"index\":0,\"latitude\":45.5124,\"longitude\":-73.5547,\"distance\":0.0,\"time\":0.0,\"currentConditions\":{\"wdir\":272.0,\"temp\":62.0,\"sunrise\":\"2020-09-11T06:28:19-04:00\",\"visibility\":null,\"wspd\":4.0,\"icon\":\"rain\",\"stations\":\"\",\"heatindex\":null,\"cloudcover\":null,\"datetime\":\"2020-09-11T14:21:01-04:00\",\"precip\":0.0,\"moonphase\":0.82,\"snowdepth\":null,\"sealevelpressure\":null,\"dew\":43.6,\"sunset\":\"2020-09-11T19:12:08-04:00\",\"humidity\":50.9,\"wgust\":8.9,\"windchill\":null},\"alerts\":null}}\n"
     ]
    }
   ],
   "source": [
    "print(response_3.text)"
   ]
  },
  {
   "cell_type": "code",
   "execution_count": 44,
   "metadata": {},
   "outputs": [],
   "source": [
    "location = \"Ottawa,Canada\""
   ]
  },
  {
   "cell_type": "code",
   "execution_count": 45,
   "metadata": {},
   "outputs": [],
   "source": [
    "url = f\"https://weather.visualcrossing.com/VisualCrossingWebServices/rest/services/weatherdata/forecast?aggregateHours=24&combinationMethod=aggregate&contentType=json&unitGroup=us&locationMode=single&key=\"+secret_key+\"&dataElements=default&locations=\"+location"
   ]
  },
  {
   "cell_type": "code",
   "execution_count": 46,
   "metadata": {},
   "outputs": [],
   "source": [
    "response_4 = requests.get(url ,timeout=6)"
   ]
  },
  {
   "cell_type": "code",
   "execution_count": 47,
   "metadata": {},
   "outputs": [
    {
     "name": "stdout",
     "output_type": "stream",
     "text": [
      "{\"columns\":{\"temp\":{\"id\":\"temp\",\"name\":\"Temperature\",\"type\":2,\"unit\":\"degF\"},\"maxt\":{\"id\":\"maxt\",\"name\":\"Maximum Temperature\",\"type\":2,\"unit\":\"degF\"},\"visibility\":{\"id\":\"visibility\",\"name\":\"Visibility\",\"type\":2,\"unit\":\"mi\"},\"wspd\":{\"id\":\"wspd\",\"name\":\"Wind Speed\",\"type\":2,\"unit\":\"mph\"},\"heatindex\":{\"id\":\"heatindex\",\"name\":\"Heat Index\",\"type\":2,\"unit\":\"degF\"},\"cloudcover\":{\"id\":\"cloudcover\",\"name\":\"Cloud Cover\",\"type\":2,\"unit\":null},\"pop\":{\"id\":\"pop\",\"name\":\"Chance Precipitation (%)\",\"type\":2,\"unit\":null},\"mint\":{\"id\":\"mint\",\"name\":\"Minimum Temperature\",\"type\":2,\"unit\":\"degF\"},\"datetime\":{\"id\":\"datetime\",\"name\":\"Date time\",\"type\":3,\"unit\":null},\"precip\":{\"id\":\"precip\",\"name\":\"Precipitation\",\"type\":2,\"unit\":\"in\"},\"snowdepth\":{\"id\":\"snowdepth\",\"name\":\"Snow Depth\",\"type\":2,\"unit\":\"in\"},\"snow\":{\"id\":\"snow\",\"name\":\"Snow\",\"type\":2,\"unit\":\"in\"},\"name\":{\"id\":\"name\",\"name\":\"Name\",\"type\":1,\"unit\":null},\"humidity\":{\"id\":\"humidity\",\"name\":\"Relative Humidity\",\"type\":2,\"unit\":null},\"wgust\":{\"id\":\"wgust\",\"name\":\"Wind Gust\",\"type\":2,\"unit\":\"mph\"},\"conditions\":{\"id\":\"conditions\",\"name\":\"Conditions\",\"type\":1,\"unit\":null},\"windchill\":{\"id\":\"windchill\",\"name\":\"Wind Chill\",\"type\":2,\"unit\":\"degF\"}},\"remainingCost\":-1,\"queryCost\":1,\"location\":{\"stationContributions\":null,\"values\":[{\"temp\":57.6,\"maxt\":65.4,\"visibility\":15.0,\"wspd\":3.9,\"datetimeStr\":\"2020-09-11T00:00:00-04:00\",\"heatindex\":null,\"cloudcover\":15.6,\"pop\":0.0,\"mint\":49.2,\"datetime\":1599782400000,\"precip\":0.0,\"snowdepth\":0.0,\"snow\":0.0,\"humidity\":68.8,\"wgust\":9.8,\"conditions\":\"Clear\",\"windchill\":null},{\"temp\":56.0,\"maxt\":67.0,\"visibility\":15.0,\"wspd\":4.7,\"datetimeStr\":\"2020-09-12T00:00:00-04:00\",\"heatindex\":null,\"cloudcover\":55.8,\"pop\":0.0,\"mint\":44.0,\"datetime\":1599868800000,\"precip\":0.0,\"snowdepth\":0.0,\"snow\":0.0,\"humidity\":72.0,\"wgust\":27.1,\"conditions\":\"Partially cloudy\",\"windchill\":null},{\"temp\":61.0,\"maxt\":68.4,\"visibility\":2.4,\"wspd\":10.2,\"datetimeStr\":\"2020-09-13T00:00:00-04:00\",\"heatindex\":null,\"cloudcover\":81.3,\"pop\":100.0,\"mint\":56.4,\"datetime\":1599955200000,\"precip\":0.59,\"snowdepth\":0.0,\"snow\":0.0,\"humidity\":90.0,\"wgust\":32.2,\"conditions\":\"Rain, Overcast\",\"windchill\":null},{\"temp\":49.0,\"maxt\":58.9,\"visibility\":15.0,\"wspd\":8.3,\"datetimeStr\":\"2020-09-14T00:00:00-04:00\",\"heatindex\":null,\"cloudcover\":3.8,\"pop\":14.3,\"mint\":41.3,\"datetime\":1600041600000,\"precip\":0.0,\"snowdepth\":0.0,\"snow\":0.0,\"humidity\":75.1,\"wgust\":32.9,\"conditions\":\"Clear\",\"windchill\":37.2},{\"temp\":50.9,\"maxt\":62.0,\"visibility\":15.0,\"wspd\":6.2,\"datetimeStr\":\"2020-09-15T00:00:00-04:00\",\"heatindex\":null,\"cloudcover\":30.4,\"pop\":0.0,\"mint\":39.5,\"datetime\":1600128000000,\"precip\":0.02,\"snowdepth\":0.0,\"snow\":0.0,\"humidity\":70.1,\"wgust\":23.3,\"conditions\":\"Partially cloudy\",\"windchill\":null},{\"temp\":53.8,\"maxt\":57.3,\"visibility\":2.4,\"wspd\":3.2,\"datetimeStr\":\"2020-09-16T00:00:00-04:00\",\"heatindex\":null,\"cloudcover\":96.1,\"pop\":14.3,\"mint\":50.1,\"datetime\":1600214400000,\"precip\":0.81,\"snowdepth\":0.0,\"snow\":0.0,\"humidity\":95.5,\"wgust\":20.6,\"conditions\":\"Overcast\",\"windchill\":null},{\"temp\":57.5,\"maxt\":64.7,\"visibility\":15.0,\"wspd\":5.5,\"datetimeStr\":\"2020-09-17T00:00:00-04:00\",\"heatindex\":null,\"cloudcover\":34.1,\"pop\":52.4,\"mint\":50.3,\"datetime\":1600300800000,\"precip\":0.0,\"snowdepth\":0.0,\"snow\":0.0,\"humidity\":78.5,\"wgust\":14.5,\"conditions\":\"Rain, Partially cloudy\",\"windchill\":null},{\"temp\":55.7,\"maxt\":67.6,\"visibility\":15.0,\"wspd\":4.9,\"datetimeStr\":\"2020-09-18T00:00:00-04:00\",\"heatindex\":null,\"cloudcover\":8.5,\"pop\":38.0,\"mint\":45.6,\"datetime\":1600387200000,\"precip\":0.0,\"snowdepth\":0.0,\"snow\":0.0,\"humidity\":74.3,\"wgust\":15.0,\"conditions\":\"Clear\",\"windchill\":47.2},{\"temp\":60.4,\"maxt\":70.4,\"visibility\":13.3,\"wspd\":3.1,\"datetimeStr\":\"2020-09-19T00:00:00-04:00\",\"heatindex\":null,\"cloudcover\":96.9,\"pop\":14.3,\"mint\":51.9,\"datetime\":1600473600000,\"precip\":0.01,\"snowdepth\":0.0,\"snow\":0.0,\"humidity\":86.0,\"wgust\":8.9,\"conditions\":\"Overcast\",\"windchill\":null},{\"temp\":60.7,\"maxt\":63.8,\"visibility\":3.4,\"wspd\":6.8,\"datetimeStr\":\"2020-09-20T00:00:00-04:00\",\"heatindex\":null,\"cloudcover\":91.0,\"pop\":28.5,\"mint\":57.5,\"datetime\":1600560000000,\"precip\":0.02,\"snowdepth\":0.0,\"snow\":0.0,\"humidity\":96.5,\"wgust\":23.9,\"conditions\":\"Overcast\",\"windchill\":null},{\"temp\":64.9,\"maxt\":73.7,\"visibility\":7.0,\"wspd\":4.1,\"datetimeStr\":\"2020-09-21T00:00:00-04:00\",\"heatindex\":null,\"cloudcover\":55.9,\"pop\":23.8,\"mint\":57.8,\"datetime\":1600646400000,\"precip\":0.09,\"snowdepth\":0.0,\"snow\":0.0,\"humidity\":88.0,\"wgust\":11.4,\"conditions\":\"Partially cloudy\",\"windchill\":null},{\"temp\":62.5,\"maxt\":72.6,\"visibility\":15.0,\"wspd\":4.9,\"datetimeStr\":\"2020-09-22T00:00:00-04:00\",\"heatindex\":null,\"cloudcover\":0.1,\"pop\":38.0,\"mint\":54.4,\"datetime\":1600732800000,\"precip\":0.0,\"snowdepth\":0.0,\"snow\":0.0,\"humidity\":85.1,\"wgust\":20.8,\"conditions\":\"Clear\",\"windchill\":null},{\"temp\":66.1,\"maxt\":73.3,\"visibility\":0.9,\"wspd\":11.6,\"datetimeStr\":\"2020-09-23T00:00:00-04:00\",\"heatindex\":null,\"cloudcover\":76.8,\"pop\":33.3,\"mint\":55.1,\"datetime\":1600819200000,\"precip\":2.46,\"snowdepth\":0.0,\"snow\":0.0,\"humidity\":92.1,\"wgust\":36.9,\"conditions\":\"Overcast\",\"windchill\":null},{\"temp\":48.4,\"maxt\":52.6,\"visibility\":6.3,\"wspd\":10.3,\"datetimeStr\":\"2020-09-24T00:00:00-04:00\",\"heatindex\":null,\"cloudcover\":100.0,\"pop\":23.8,\"mint\":43.1,\"datetime\":1600905600000,\"precip\":0.23,\"snowdepth\":0.0,\"snow\":0.0,\"humidity\":78.8,\"wgust\":25.1,\"conditions\":\"Overcast\",\"windchill\":36.8},{\"temp\":null,\"maxt\":null,\"visibility\":null,\"wspd\":null,\"datetimeStr\":\"2020-09-25T00:00:00-04:00\",\"heatindex\":null,\"cloudcover\":null,\"pop\":33.3,\"mint\":null,\"datetime\":1600992000000,\"precip\":0.0,\"snowdepth\":null,\"snow\":null,\"humidity\":null,\"wgust\":null,\"conditions\":\"\",\"windchill\":null}],\"id\":\"Ottawa,Canada\",\"address\":\"Ottawa, ON, Canada\",\"name\":\"Ottawa,Canada\",\"index\":0,\"latitude\":45.4218,\"longitude\":-75.6912,\"distance\":0.0,\"time\":0.0,\"currentConditions\":{\"wdir\":31.0,\"temp\":63.9,\"sunrise\":\"2020-09-11T06:36:56-04:00\",\"visibility\":null,\"wspd\":0.9,\"icon\":\"clear-day\",\"stations\":\"\",\"heatindex\":null,\"cloudcover\":null,\"datetime\":\"2020-09-11T14:41:01-04:00\",\"precip\":0.0,\"moonphase\":0.82,\"snowdepth\":null,\"sealevelpressure\":null,\"dew\":45.0,\"sunset\":\"2020-09-11T19:20:37-04:00\",\"humidity\":50.2,\"wgust\":4.9,\"windchill\":null},\"alerts\":null}}\n"
     ]
    }
   ],
   "source": [
    "print(response_4.text)"
   ]
  },
  {
   "cell_type": "code",
   "execution_count": 36,
   "metadata": {},
   "outputs": [],
   "source": [
    "location = \"Calgary,Canada\""
   ]
  },
  {
   "cell_type": "code",
   "execution_count": 37,
   "metadata": {},
   "outputs": [],
   "source": [
    "url = f\"https://weather.visualcrossing.com/VisualCrossingWebServices/rest/services/weatherdata/forecast?aggregateHours=24&combinationMethod=aggregate&contentType=json&unitGroup=us&locationMode=single&key=\"+secret_key+\"&dataElements=default&locations=\"+location"
   ]
  },
  {
   "cell_type": "code",
   "execution_count": 39,
   "metadata": {},
   "outputs": [],
   "source": [
    "response_5 = requests.get(url ,timeout=3)"
   ]
  },
  {
   "cell_type": "code",
   "execution_count": 40,
   "metadata": {},
   "outputs": [
    {
     "name": "stdout",
     "output_type": "stream",
     "text": [
      "{\"columns\":{\"temp\":{\"id\":\"temp\",\"name\":\"Temperature\",\"type\":2,\"unit\":\"degF\"},\"maxt\":{\"id\":\"maxt\",\"name\":\"Maximum Temperature\",\"type\":2,\"unit\":\"degF\"},\"visibility\":{\"id\":\"visibility\",\"name\":\"Visibility\",\"type\":2,\"unit\":\"mi\"},\"wspd\":{\"id\":\"wspd\",\"name\":\"Wind Speed\",\"type\":2,\"unit\":\"mph\"},\"heatindex\":{\"id\":\"heatindex\",\"name\":\"Heat Index\",\"type\":2,\"unit\":\"degF\"},\"cloudcover\":{\"id\":\"cloudcover\",\"name\":\"Cloud Cover\",\"type\":2,\"unit\":null},\"pop\":{\"id\":\"pop\",\"name\":\"Chance Precipitation (%)\",\"type\":2,\"unit\":null},\"mint\":{\"id\":\"mint\",\"name\":\"Minimum Temperature\",\"type\":2,\"unit\":\"degF\"},\"datetime\":{\"id\":\"datetime\",\"name\":\"Date time\",\"type\":3,\"unit\":null},\"precip\":{\"id\":\"precip\",\"name\":\"Precipitation\",\"type\":2,\"unit\":\"in\"},\"snowdepth\":{\"id\":\"snowdepth\",\"name\":\"Snow Depth\",\"type\":2,\"unit\":\"in\"},\"snow\":{\"id\":\"snow\",\"name\":\"Snow\",\"type\":2,\"unit\":\"in\"},\"name\":{\"id\":\"name\",\"name\":\"Name\",\"type\":1,\"unit\":null},\"humidity\":{\"id\":\"humidity\",\"name\":\"Relative Humidity\",\"type\":2,\"unit\":null},\"wgust\":{\"id\":\"wgust\",\"name\":\"Wind Gust\",\"type\":2,\"unit\":\"mph\"},\"conditions\":{\"id\":\"conditions\",\"name\":\"Conditions\",\"type\":1,\"unit\":null},\"windchill\":{\"id\":\"windchill\",\"name\":\"Wind Chill\",\"type\":2,\"unit\":\"degF\"}},\"remainingCost\":-1,\"queryCost\":1,\"location\":{\"stationContributions\":null,\"values\":[{\"temp\":67.9,\"maxt\":75.6,\"visibility\":15.0,\"wspd\":9.4,\"datetimeStr\":\"2020-09-11T00:00:00-06:00\",\"heatindex\":null,\"cloudcover\":6.9,\"pop\":0.0,\"mint\":55.5,\"datetime\":1599782400000,\"precip\":0.0,\"snowdepth\":0.0,\"snow\":0.0,\"humidity\":51.7,\"wgust\":22.6,\"conditions\":\"Clear\",\"windchill\":null},{\"temp\":58.2,\"maxt\":69.5,\"visibility\":15.0,\"wspd\":9.7,\"datetimeStr\":\"2020-09-12T00:00:00-06:00\",\"heatindex\":null,\"cloudcover\":60.4,\"pop\":4.7,\"mint\":46.1,\"datetime\":1599868800000,\"precip\":0.0,\"snowdepth\":0.0,\"snow\":0.0,\"humidity\":67.9,\"wgust\":22.6,\"conditions\":\"Partially cloudy\",\"windchill\":41.7},{\"temp\":51.9,\"maxt\":62.7,\"visibility\":15.0,\"wspd\":6.3,\"datetimeStr\":\"2020-09-13T00:00:00-06:00\",\"heatindex\":null,\"cloudcover\":63.6,\"pop\":4.7,\"mint\":42.0,\"datetime\":1599955200000,\"precip\":0.0,\"snowdepth\":0.0,\"snow\":0.0,\"humidity\":66.0,\"wgust\":15.4,\"conditions\":\"Partially cloudy\",\"windchill\":40.2},{\"temp\":52.0,\"maxt\":65.2,\"visibility\":15.0,\"wspd\":5.1,\"datetimeStr\":\"2020-09-14T00:00:00-06:00\",\"heatindex\":null,\"cloudcover\":96.6,\"pop\":9.5,\"mint\":47.4,\"datetime\":1600041600000,\"precip\":0.0,\"snowdepth\":0.0,\"snow\":0.0,\"humidity\":67.4,\"wgust\":15.9,\"conditions\":\"Overcast\",\"windchill\":45.6},{\"temp\":55.6,\"maxt\":66.5,\"visibility\":15.0,\"wspd\":4.2,\"datetimeStr\":\"2020-09-15T00:00:00-06:00\",\"heatindex\":null,\"cloudcover\":98.0,\"pop\":66.6,\"mint\":48.3,\"datetime\":1600128000000,\"precip\":0.0,\"snowdepth\":0.0,\"snow\":0.0,\"humidity\":66.4,\"wgust\":11.6,\"conditions\":\"Rain, Overcast\",\"windchill\":45.6},{\"temp\":60.1,\"maxt\":74.6,\"visibility\":15.0,\"wspd\":4.8,\"datetimeStr\":\"2020-09-16T00:00:00-06:00\",\"heatindex\":null,\"cloudcover\":91.6,\"pop\":66.6,\"mint\":48.6,\"datetime\":1600214400000,\"precip\":0.0,\"snowdepth\":0.0,\"snow\":0.0,\"humidity\":58.5,\"wgust\":12.8,\"conditions\":\"Rain, Overcast\",\"windchill\":null},{\"temp\":58.1,\"maxt\":63.8,\"visibility\":15.0,\"wspd\":7.8,\"datetimeStr\":\"2020-09-17T00:00:00-06:00\",\"heatindex\":null,\"cloudcover\":86.6,\"pop\":9.5,\"mint\":51.5,\"datetime\":1600300800000,\"precip\":0.0,\"snowdepth\":0.0,\"snow\":0.0,\"humidity\":63.6,\"wgust\":28.6,\"conditions\":\"Overcast\",\"windchill\":null},{\"temp\":54.4,\"maxt\":65.7,\"visibility\":7.4,\"wspd\":5.6,\"datetimeStr\":\"2020-09-18T00:00:00-06:00\",\"heatindex\":null,\"cloudcover\":68.9,\"pop\":23.7,\"mint\":45.6,\"datetime\":1600387200000,\"precip\":0.04,\"snowdepth\":0.0,\"snow\":0.0,\"humidity\":68.2,\"wgust\":13.9,\"conditions\":\"Partially cloudy\",\"windchill\":42.8},{\"temp\":54.5,\"maxt\":63.9,\"visibility\":15.0,\"wspd\":5.8,\"datetimeStr\":\"2020-09-19T00:00:00-06:00\",\"heatindex\":null,\"cloudcover\":82.3,\"pop\":38.0,\"mint\":48.1,\"datetime\":1600473600000,\"precip\":0.04,\"snowdepth\":0.0,\"snow\":0.0,\"humidity\":69.9,\"wgust\":15.9,\"conditions\":\"Overcast\",\"windchill\":46.0},{\"temp\":49.3,\"maxt\":56.9,\"visibility\":14.8,\"wspd\":9.3,\"datetimeStr\":\"2020-09-20T00:00:00-06:00\",\"heatindex\":null,\"cloudcover\":63.3,\"pop\":28.5,\"mint\":42.2,\"datetime\":1600560000000,\"precip\":0.07,\"snowdepth\":0.0,\"snow\":0.0,\"humidity\":72.0,\"wgust\":27.5,\"conditions\":\"Partially cloudy\",\"windchill\":33.9},{\"temp\":41.2,\"maxt\":42.9,\"visibility\":3.0,\"wspd\":11.5,\"datetimeStr\":\"2020-09-21T00:00:00-06:00\",\"heatindex\":null,\"cloudcover\":91.5,\"pop\":38.0,\"mint\":37.5,\"datetime\":1600646400000,\"precip\":0.22,\"snowdepth\":0.0,\"snow\":0.0,\"humidity\":83.4,\"wgust\":25.7,\"conditions\":\"Overcast\",\"windchill\":33.0},{\"temp\":43.8,\"maxt\":57.5,\"visibility\":15.0,\"wspd\":4.4,\"datetimeStr\":\"2020-09-22T00:00:00-06:00\",\"heatindex\":null,\"cloudcover\":8.3,\"pop\":19.0,\"mint\":33.2,\"datetime\":1600732800000,\"precip\":0.0,\"snowdepth\":0.0,\"snow\":0.0,\"humidity\":60.2,\"wgust\":7.8,\"conditions\":\"Clear\",\"windchill\":31.3},{\"temp\":50.2,\"maxt\":65.2,\"visibility\":15.0,\"wspd\":5.5,\"datetimeStr\":\"2020-09-23T00:00:00-06:00\",\"heatindex\":null,\"cloudcover\":64.8,\"pop\":14.2,\"mint\":38.2,\"datetime\":1600819200000,\"precip\":0.0,\"snowdepth\":0.0,\"snow\":0.0,\"humidity\":53.8,\"wgust\":20.6,\"conditions\":\"Partially cloudy\",\"windchill\":35.9},{\"temp\":51.8,\"maxt\":63.6,\"visibility\":15.0,\"wspd\":5.3,\"datetimeStr\":\"2020-09-24T00:00:00-06:00\",\"heatindex\":null,\"cloudcover\":65.9,\"pop\":4.7,\"mint\":42.5,\"datetime\":1600905600000,\"precip\":0.0,\"snowdepth\":0.0,\"snow\":0.0,\"humidity\":49.4,\"wgust\":11.2,\"conditions\":\"Partially cloudy\",\"windchill\":39.3},{\"temp\":null,\"maxt\":null,\"visibility\":null,\"wspd\":null,\"datetimeStr\":\"2020-09-25T00:00:00-06:00\",\"heatindex\":null,\"cloudcover\":null,\"pop\":9.5,\"mint\":null,\"datetime\":1600992000000,\"precip\":0.0,\"snowdepth\":null,\"snow\":null,\"humidity\":null,\"wgust\":null,\"conditions\":\"\",\"windchill\":null}],\"id\":\"Calgary,Canada\",\"address\":\"Calgary, AB, Canada\",\"name\":\"Calgary,Canada\",\"index\":0,\"latitude\":51.0453,\"longitude\":-114.063,\"distance\":0.0,\"time\":0.0,\"currentConditions\":{\"wdir\":143.0,\"temp\":74.9,\"sunrise\":\"2020-09-11T07:06:11-06:00\",\"visibility\":null,\"wspd\":0.0,\"icon\":\"clear-day\",\"stations\":\"\",\"heatindex\":null,\"cloudcover\":null,\"datetime\":\"2020-09-11T12:42:09-06:00\",\"precip\":0.0,\"moonphase\":0.81,\"snowdepth\":null,\"sealevelpressure\":null,\"dew\":47.6,\"sunset\":\"2020-09-11T19:58:04-06:00\",\"humidity\":37.9,\"wgust\":2.0,\"windchill\":null},\"alerts\":null}}\n"
     ]
    }
   ],
   "source": [
    "print(response_5.text)"
   ]
  },
  {
   "cell_type": "code",
   "execution_count": null,
   "metadata": {},
   "outputs": [],
   "source": []
  }
 ],
 "metadata": {
  "kernelspec": {
   "display_name": "Python 3",
   "language": "python",
   "name": "python3"
  },
  "language_info": {
   "codemirror_mode": {
    "name": "ipython",
    "version": 3
   },
   "file_extension": ".py",
   "mimetype": "text/x-python",
   "name": "python",
   "nbconvert_exporter": "python",
   "pygments_lexer": "ipython3",
   "version": "3.8.3"
  }
 },
 "nbformat": 4,
 "nbformat_minor": 4
}
