{
 "cells": [
  {
   "cell_type": "markdown",
   "metadata": {},
   "source": [
    "## API Demo in Python"
   ]
  },
  {
   "cell_type": "code",
   "execution_count": 2,
   "metadata": {},
   "outputs": [
    {
     "name": "stdout",
     "output_type": "stream",
     "text": [
      "BwvmKTKZ7XMPDV2y0AqD\n"
     ]
    }
   ],
   "source": [
    "#for HTTP request\n",
    "import requests\n",
    "\n",
    "#for environment variables\n",
    "import os\n",
    "\n",
    "apikey = os.environ.get('Bus_API')\n",
    "print(apikey)"
   ]
  },
  {
   "cell_type": "code",
   "execution_count": 3,
   "metadata": {},
   "outputs": [
    {
     "data": {
      "text/plain": [
       "{'StopNo': 50624,\n",
       " 'Name': 'WB ROBSON ST FS BURRARD ST',\n",
       " 'BayNo': 'N',\n",
       " 'City': 'VANCOUVER',\n",
       " 'OnStreet': 'ROBSON ST',\n",
       " 'AtStreet': 'BURRARD ST',\n",
       " 'Latitude': 49.283556,\n",
       " 'Longitude': -123.123086,\n",
       " 'WheelchairAccess': 1,\n",
       " 'Distance': -1,\n",
       " 'Routes': '005'}"
      ]
     },
     "execution_count": 3,
     "metadata": {},
     "output_type": "execute_result"
    }
   ],
   "source": [
    "# Fetch Data\n",
    "\n",
    "requests.get('http://api.translink.ca/rttiapi/v1/stops/50624?apikey={}'.format(apikey), \n",
    "             headers={'accept': 'application/JSON'}).json()"
   ]
  },
  {
   "cell_type": "code",
   "execution_count": 4,
   "metadata": {},
   "outputs": [
    {
     "data": {
      "text/plain": [
       "[{'RouteNo': '099',\n",
       "  'RouteName': 'COMMERCIAL-BROADWAY/UBC (B-LINE)',\n",
       "  'Direction': 'EAST',\n",
       "  'RouteMap': {'Href': 'https://nb.translink.ca/geodata/099.kmz'},\n",
       "  'Schedules': [{'Pattern': 'E1',\n",
       "    'Destination': \"COMM'L-BDWAY STN\",\n",
       "    'ExpectedLeaveTime': '5:11pm 2020-07-18',\n",
       "    'ExpectedCountdown': -1,\n",
       "    'ScheduleStatus': '*',\n",
       "    'CancelledTrip': False,\n",
       "    'CancelledStop': False,\n",
       "    'AddedTrip': False,\n",
       "    'AddedStop': False,\n",
       "    'LastUpdate': '04:11:41 pm'},\n",
       "   {'Pattern': 'E1',\n",
       "    'Destination': \"COMM'L-BDWAY STN\",\n",
       "    'ExpectedLeaveTime': '5:16pm 2020-07-18',\n",
       "    'ExpectedCountdown': 4,\n",
       "    'ScheduleStatus': '*',\n",
       "    'CancelledTrip': False,\n",
       "    'CancelledStop': False,\n",
       "    'AddedTrip': False,\n",
       "    'AddedStop': False,\n",
       "    'LastUpdate': '04:16:31 pm'},\n",
       "   {'Pattern': 'E1',\n",
       "    'Destination': \"COMM'L-BDWAY STN\",\n",
       "    'ExpectedLeaveTime': '5:22pm 2020-07-18',\n",
       "    'ExpectedCountdown': 10,\n",
       "    'ScheduleStatus': '*',\n",
       "    'CancelledTrip': False,\n",
       "    'CancelledStop': False,\n",
       "    'AddedTrip': False,\n",
       "    'AddedStop': False,\n",
       "    'LastUpdate': '04:22:25 pm'},\n",
       "   {'Pattern': 'E1',\n",
       "    'Destination': \"COMM'L-BDWAY STN\",\n",
       "    'ExpectedLeaveTime': '5:27pm 2020-07-18',\n",
       "    'ExpectedCountdown': 15,\n",
       "    'ScheduleStatus': '*',\n",
       "    'CancelledTrip': True,\n",
       "    'CancelledStop': False,\n",
       "    'AddedTrip': False,\n",
       "    'AddedStop': False,\n",
       "    'LastUpdate': '04:27:20 pm'},\n",
       "   {'Pattern': 'E1',\n",
       "    'Destination': \"COMM'L-BDWAY STN\",\n",
       "    'ExpectedLeaveTime': '5:33pm 2020-07-18',\n",
       "    'ExpectedCountdown': 21,\n",
       "    'ScheduleStatus': '*',\n",
       "    'CancelledTrip': False,\n",
       "    'CancelledStop': False,\n",
       "    'AddedTrip': False,\n",
       "    'AddedStop': False,\n",
       "    'LastUpdate': '04:33:00 pm'},\n",
       "   {'Pattern': 'E8FL2',\n",
       "    'Destination': 'TO BOUNDARY B-LINE',\n",
       "    'ExpectedLeaveTime': '5:38pm 2020-07-18',\n",
       "    'ExpectedCountdown': 26,\n",
       "    'ScheduleStatus': '*',\n",
       "    'CancelledTrip': False,\n",
       "    'CancelledStop': False,\n",
       "    'AddedTrip': False,\n",
       "    'AddedStop': False,\n",
       "    'LastUpdate': '04:38:31 pm'}]}]"
      ]
     },
     "execution_count": 4,
     "metadata": {},
     "output_type": "execute_result"
    }
   ],
   "source": [
    "# Fetch Data with additional parameter \"estimates\"\n",
    "\n",
    "requests.get('http://api.translink.ca/rttiapi/v1/stops/61935/estimates?apikey={}'.format(apikey),\n",
    "             headers={'accept': 'application/JSON'}).json()"
   ]
  }
 ],
 "metadata": {
  "kernelspec": {
   "display_name": "Python 3",
   "language": "python",
   "name": "python3"
  },
  "language_info": {
   "codemirror_mode": {
    "name": "ipython",
    "version": 3
   },
   "file_extension": ".py",
   "mimetype": "text/x-python",
   "name": "python",
   "nbconvert_exporter": "python",
   "pygments_lexer": "ipython3",
   "version": "3.8.3"
  }
 },
 "nbformat": 4,
 "nbformat_minor": 4
}
